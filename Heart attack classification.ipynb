{
 "cells": [
  {
   "cell_type": "markdown",
   "id": "a473c8f0-5e92-4927-bba3-f24825a846ea",
   "metadata": {},
   "source": [
    "#### Explanation of some columns\n",
    "- Age : Age of the patient\n",
    "- Sex : Sex of the patient\n",
    "- exng: exercise induced angina (1 = yes; 0 = no)\n",
    "- cp: number of major vessels (0-3)\n",
    "- caa : Chest Pain type chest pain type \n",
    "    - Value 0: none\n",
    "    - Value 1: typical angina\n",
    "    - Value 2: atypical angina\n",
    "    - Value 3: non-anginal pain\n",
    "    - Value 4: asymptomatic\n",
    "- trtbps : resting blood pressure (in mm Hg) \n",
    "- chol : cholestoral in mg/dl fetched via BMI sensor\n",
    "- fbs : (fasting blood sugar > 120 mg/dl) (1 = true; 0 = false)\n",
    "- restecg : resting electrocardiographic results\n",
    "    - Value 0: normal\n",
    "    - Value 1: having ST-T wave abnormality (T wave inversions and/or ST elevation or depression of > 0.05 mV)\n",
    "    - Value 2: showing probable or definite left ventricular hypertrophy by Estes' criteria\n",
    "- thalachh : maximum heart rate achieved\n",
    "- target : 0= less chance of heart attack 1= more chance of heart attack"
   ]
  },
  {
   "cell_type": "code",
   "execution_count": 1,
   "id": "488694ac-6453-4bbb-99da-1cfab8410bd9",
   "metadata": {},
   "outputs": [],
   "source": [
    "import numpy as np \n",
    "import pandas as pd \n",
    "import matplotlib.pyplot as plt\n",
    "import seaborn as sns\n",
    "from scipy.stats import uniform, randint\n",
    "\n",
    "from sklearn.model_selection import train_test_split, RandomizedSearchCV, GridSearchCV\n",
    "from sklearn.metrics import accuracy_score, f1_score\n",
    "from sklearn.preprocessing import StandardScaler, PolynomialFeatures\n",
    "from sklearn.model_selection import cross_val_score\n",
    "from sklearn.pipeline import Pipeline\n",
    "\n",
    "from sklearn.linear_model import LogisticRegression\n",
    "from sklearn.tree import DecisionTreeClassifier, plot_tree\n",
    "from sklearn.svm import SVC, LinearSVC\n",
    "from sklearn.ensemble import BaggingClassifier, RandomForestClassifier, AdaBoostClassifier\n",
    "from sklearn.naive_bayes import BernoulliNB\n",
    "from sklearn.neighbors import KNeighborsClassifier\n",
    "from xgboost import XGBClassifier\n",
    "import lightgbm as ltb\n",
    "from sklearn.neural_network import MLPClassifier\n",
    "\n",
    "import warnings\n",
    "warnings.filterwarnings('ignore')"
   ]
  },
  {
   "cell_type": "code",
   "execution_count": 2,
   "id": "2c1270a9-523e-44e7-a410-e48c979eea86",
   "metadata": {},
   "outputs": [
    {
     "data": {
      "text/html": [
       "<div>\n",
       "<style scoped>\n",
       "    .dataframe tbody tr th:only-of-type {\n",
       "        vertical-align: middle;\n",
       "    }\n",
       "\n",
       "    .dataframe tbody tr th {\n",
       "        vertical-align: top;\n",
       "    }\n",
       "\n",
       "    .dataframe thead th {\n",
       "        text-align: right;\n",
       "    }\n",
       "</style>\n",
       "<table border=\"1\" class=\"dataframe\">\n",
       "  <thead>\n",
       "    <tr style=\"text-align: right;\">\n",
       "      <th></th>\n",
       "      <th>age</th>\n",
       "      <th>sex</th>\n",
       "      <th>cp</th>\n",
       "      <th>trtbps</th>\n",
       "      <th>chol</th>\n",
       "      <th>fbs</th>\n",
       "      <th>restecg</th>\n",
       "      <th>thalachh</th>\n",
       "      <th>exng</th>\n",
       "      <th>oldpeak</th>\n",
       "      <th>slp</th>\n",
       "      <th>caa</th>\n",
       "      <th>thall</th>\n",
       "      <th>output</th>\n",
       "    </tr>\n",
       "  </thead>\n",
       "  <tbody>\n",
       "    <tr>\n",
       "      <th>0</th>\n",
       "      <td>63</td>\n",
       "      <td>1</td>\n",
       "      <td>3</td>\n",
       "      <td>145</td>\n",
       "      <td>233</td>\n",
       "      <td>1</td>\n",
       "      <td>0</td>\n",
       "      <td>150</td>\n",
       "      <td>0</td>\n",
       "      <td>2.3</td>\n",
       "      <td>0</td>\n",
       "      <td>0</td>\n",
       "      <td>1</td>\n",
       "      <td>1</td>\n",
       "    </tr>\n",
       "    <tr>\n",
       "      <th>1</th>\n",
       "      <td>37</td>\n",
       "      <td>1</td>\n",
       "      <td>2</td>\n",
       "      <td>130</td>\n",
       "      <td>250</td>\n",
       "      <td>0</td>\n",
       "      <td>1</td>\n",
       "      <td>187</td>\n",
       "      <td>0</td>\n",
       "      <td>3.5</td>\n",
       "      <td>0</td>\n",
       "      <td>0</td>\n",
       "      <td>2</td>\n",
       "      <td>1</td>\n",
       "    </tr>\n",
       "    <tr>\n",
       "      <th>2</th>\n",
       "      <td>41</td>\n",
       "      <td>0</td>\n",
       "      <td>1</td>\n",
       "      <td>130</td>\n",
       "      <td>204</td>\n",
       "      <td>0</td>\n",
       "      <td>0</td>\n",
       "      <td>172</td>\n",
       "      <td>0</td>\n",
       "      <td>1.4</td>\n",
       "      <td>2</td>\n",
       "      <td>0</td>\n",
       "      <td>2</td>\n",
       "      <td>1</td>\n",
       "    </tr>\n",
       "    <tr>\n",
       "      <th>3</th>\n",
       "      <td>56</td>\n",
       "      <td>1</td>\n",
       "      <td>1</td>\n",
       "      <td>120</td>\n",
       "      <td>236</td>\n",
       "      <td>0</td>\n",
       "      <td>1</td>\n",
       "      <td>178</td>\n",
       "      <td>0</td>\n",
       "      <td>0.8</td>\n",
       "      <td>2</td>\n",
       "      <td>0</td>\n",
       "      <td>2</td>\n",
       "      <td>1</td>\n",
       "    </tr>\n",
       "    <tr>\n",
       "      <th>4</th>\n",
       "      <td>57</td>\n",
       "      <td>0</td>\n",
       "      <td>0</td>\n",
       "      <td>120</td>\n",
       "      <td>354</td>\n",
       "      <td>0</td>\n",
       "      <td>1</td>\n",
       "      <td>163</td>\n",
       "      <td>1</td>\n",
       "      <td>0.6</td>\n",
       "      <td>2</td>\n",
       "      <td>0</td>\n",
       "      <td>2</td>\n",
       "      <td>1</td>\n",
       "    </tr>\n",
       "  </tbody>\n",
       "</table>\n",
       "</div>"
      ],
      "text/plain": [
       "   age  sex  cp  trtbps  chol  fbs  restecg  thalachh  exng  oldpeak  slp  \\\n",
       "0   63    1   3     145   233    1        0       150     0      2.3    0   \n",
       "1   37    1   2     130   250    0        1       187     0      3.5    0   \n",
       "2   41    0   1     130   204    0        0       172     0      1.4    2   \n",
       "3   56    1   1     120   236    0        1       178     0      0.8    2   \n",
       "4   57    0   0     120   354    0        1       163     1      0.6    2   \n",
       "\n",
       "   caa  thall  output  \n",
       "0    0      1       1  \n",
       "1    0      2       1  \n",
       "2    0      2       1  \n",
       "3    0      2       1  \n",
       "4    0      2       1  "
      ]
     },
     "execution_count": 2,
     "metadata": {},
     "output_type": "execute_result"
    }
   ],
   "source": [
    "data = pd.read_csv('heart.csv')\n",
    "data.head()"
   ]
  },
  {
   "cell_type": "code",
   "execution_count": 3,
   "id": "8825798f-f5e2-4fed-93e5-d5f8b741ba04",
   "metadata": {},
   "outputs": [
    {
     "data": {
      "text/plain": [
       "(303, 14)"
      ]
     },
     "execution_count": 3,
     "metadata": {},
     "output_type": "execute_result"
    }
   ],
   "source": [
    "data.shape"
   ]
  },
  {
   "cell_type": "code",
   "execution_count": 4,
   "id": "49a7a3d9-038d-4572-b3e7-61447ed2673c",
   "metadata": {},
   "outputs": [
    {
     "name": "stdout",
     "output_type": "stream",
     "text": [
      "<class 'pandas.core.frame.DataFrame'>\n",
      "RangeIndex: 303 entries, 0 to 302\n",
      "Data columns (total 14 columns):\n",
      " #   Column    Non-Null Count  Dtype  \n",
      "---  ------    --------------  -----  \n",
      " 0   age       303 non-null    int64  \n",
      " 1   sex       303 non-null    int64  \n",
      " 2   cp        303 non-null    int64  \n",
      " 3   trtbps    303 non-null    int64  \n",
      " 4   chol      303 non-null    int64  \n",
      " 5   fbs       303 non-null    int64  \n",
      " 6   restecg   303 non-null    int64  \n",
      " 7   thalachh  303 non-null    int64  \n",
      " 8   exng      303 non-null    int64  \n",
      " 9   oldpeak   303 non-null    float64\n",
      " 10  slp       303 non-null    int64  \n",
      " 11  caa       303 non-null    int64  \n",
      " 12  thall     303 non-null    int64  \n",
      " 13  output    303 non-null    int64  \n",
      "dtypes: float64(1), int64(13)\n",
      "memory usage: 33.3 KB\n"
     ]
    }
   ],
   "source": [
    "data.info() ## no missing values "
   ]
  },
  {
   "cell_type": "code",
   "execution_count": 5,
   "id": "89896313-f1f0-438c-9ad7-2fe11830a51a",
   "metadata": {},
   "outputs": [
    {
     "data": {
      "text/html": [
       "<div>\n",
       "<style scoped>\n",
       "    .dataframe tbody tr th:only-of-type {\n",
       "        vertical-align: middle;\n",
       "    }\n",
       "\n",
       "    .dataframe tbody tr th {\n",
       "        vertical-align: top;\n",
       "    }\n",
       "\n",
       "    .dataframe thead th {\n",
       "        text-align: right;\n",
       "    }\n",
       "</style>\n",
       "<table border=\"1\" class=\"dataframe\">\n",
       "  <thead>\n",
       "    <tr style=\"text-align: right;\">\n",
       "      <th></th>\n",
       "      <th>age</th>\n",
       "      <th>sex</th>\n",
       "      <th>cp</th>\n",
       "      <th>trtbps</th>\n",
       "      <th>chol</th>\n",
       "      <th>fbs</th>\n",
       "      <th>restecg</th>\n",
       "      <th>thalachh</th>\n",
       "      <th>exng</th>\n",
       "      <th>oldpeak</th>\n",
       "      <th>slp</th>\n",
       "      <th>caa</th>\n",
       "      <th>thall</th>\n",
       "      <th>output</th>\n",
       "    </tr>\n",
       "  </thead>\n",
       "  <tbody>\n",
       "    <tr>\n",
       "      <th>count</th>\n",
       "      <td>303.000000</td>\n",
       "      <td>303.000000</td>\n",
       "      <td>303.000000</td>\n",
       "      <td>303.000000</td>\n",
       "      <td>303.000000</td>\n",
       "      <td>303.000000</td>\n",
       "      <td>303.000000</td>\n",
       "      <td>303.000000</td>\n",
       "      <td>303.000000</td>\n",
       "      <td>303.000000</td>\n",
       "      <td>303.000000</td>\n",
       "      <td>303.000000</td>\n",
       "      <td>303.000000</td>\n",
       "      <td>303.000000</td>\n",
       "    </tr>\n",
       "    <tr>\n",
       "      <th>mean</th>\n",
       "      <td>54.366337</td>\n",
       "      <td>0.683168</td>\n",
       "      <td>0.966997</td>\n",
       "      <td>131.623762</td>\n",
       "      <td>246.264026</td>\n",
       "      <td>0.148515</td>\n",
       "      <td>0.528053</td>\n",
       "      <td>149.646865</td>\n",
       "      <td>0.326733</td>\n",
       "      <td>1.039604</td>\n",
       "      <td>1.399340</td>\n",
       "      <td>0.729373</td>\n",
       "      <td>2.313531</td>\n",
       "      <td>0.544554</td>\n",
       "    </tr>\n",
       "    <tr>\n",
       "      <th>std</th>\n",
       "      <td>9.082101</td>\n",
       "      <td>0.466011</td>\n",
       "      <td>1.032052</td>\n",
       "      <td>17.538143</td>\n",
       "      <td>51.830751</td>\n",
       "      <td>0.356198</td>\n",
       "      <td>0.525860</td>\n",
       "      <td>22.905161</td>\n",
       "      <td>0.469794</td>\n",
       "      <td>1.161075</td>\n",
       "      <td>0.616226</td>\n",
       "      <td>1.022606</td>\n",
       "      <td>0.612277</td>\n",
       "      <td>0.498835</td>\n",
       "    </tr>\n",
       "    <tr>\n",
       "      <th>min</th>\n",
       "      <td>29.000000</td>\n",
       "      <td>0.000000</td>\n",
       "      <td>0.000000</td>\n",
       "      <td>94.000000</td>\n",
       "      <td>126.000000</td>\n",
       "      <td>0.000000</td>\n",
       "      <td>0.000000</td>\n",
       "      <td>71.000000</td>\n",
       "      <td>0.000000</td>\n",
       "      <td>0.000000</td>\n",
       "      <td>0.000000</td>\n",
       "      <td>0.000000</td>\n",
       "      <td>0.000000</td>\n",
       "      <td>0.000000</td>\n",
       "    </tr>\n",
       "    <tr>\n",
       "      <th>25%</th>\n",
       "      <td>47.500000</td>\n",
       "      <td>0.000000</td>\n",
       "      <td>0.000000</td>\n",
       "      <td>120.000000</td>\n",
       "      <td>211.000000</td>\n",
       "      <td>0.000000</td>\n",
       "      <td>0.000000</td>\n",
       "      <td>133.500000</td>\n",
       "      <td>0.000000</td>\n",
       "      <td>0.000000</td>\n",
       "      <td>1.000000</td>\n",
       "      <td>0.000000</td>\n",
       "      <td>2.000000</td>\n",
       "      <td>0.000000</td>\n",
       "    </tr>\n",
       "    <tr>\n",
       "      <th>50%</th>\n",
       "      <td>55.000000</td>\n",
       "      <td>1.000000</td>\n",
       "      <td>1.000000</td>\n",
       "      <td>130.000000</td>\n",
       "      <td>240.000000</td>\n",
       "      <td>0.000000</td>\n",
       "      <td>1.000000</td>\n",
       "      <td>153.000000</td>\n",
       "      <td>0.000000</td>\n",
       "      <td>0.800000</td>\n",
       "      <td>1.000000</td>\n",
       "      <td>0.000000</td>\n",
       "      <td>2.000000</td>\n",
       "      <td>1.000000</td>\n",
       "    </tr>\n",
       "    <tr>\n",
       "      <th>75%</th>\n",
       "      <td>61.000000</td>\n",
       "      <td>1.000000</td>\n",
       "      <td>2.000000</td>\n",
       "      <td>140.000000</td>\n",
       "      <td>274.500000</td>\n",
       "      <td>0.000000</td>\n",
       "      <td>1.000000</td>\n",
       "      <td>166.000000</td>\n",
       "      <td>1.000000</td>\n",
       "      <td>1.600000</td>\n",
       "      <td>2.000000</td>\n",
       "      <td>1.000000</td>\n",
       "      <td>3.000000</td>\n",
       "      <td>1.000000</td>\n",
       "    </tr>\n",
       "    <tr>\n",
       "      <th>max</th>\n",
       "      <td>77.000000</td>\n",
       "      <td>1.000000</td>\n",
       "      <td>3.000000</td>\n",
       "      <td>200.000000</td>\n",
       "      <td>564.000000</td>\n",
       "      <td>1.000000</td>\n",
       "      <td>2.000000</td>\n",
       "      <td>202.000000</td>\n",
       "      <td>1.000000</td>\n",
       "      <td>6.200000</td>\n",
       "      <td>2.000000</td>\n",
       "      <td>4.000000</td>\n",
       "      <td>3.000000</td>\n",
       "      <td>1.000000</td>\n",
       "    </tr>\n",
       "  </tbody>\n",
       "</table>\n",
       "</div>"
      ],
      "text/plain": [
       "              age         sex          cp      trtbps        chol         fbs  \\\n",
       "count  303.000000  303.000000  303.000000  303.000000  303.000000  303.000000   \n",
       "mean    54.366337    0.683168    0.966997  131.623762  246.264026    0.148515   \n",
       "std      9.082101    0.466011    1.032052   17.538143   51.830751    0.356198   \n",
       "min     29.000000    0.000000    0.000000   94.000000  126.000000    0.000000   \n",
       "25%     47.500000    0.000000    0.000000  120.000000  211.000000    0.000000   \n",
       "50%     55.000000    1.000000    1.000000  130.000000  240.000000    0.000000   \n",
       "75%     61.000000    1.000000    2.000000  140.000000  274.500000    0.000000   \n",
       "max     77.000000    1.000000    3.000000  200.000000  564.000000    1.000000   \n",
       "\n",
       "          restecg    thalachh        exng     oldpeak         slp         caa  \\\n",
       "count  303.000000  303.000000  303.000000  303.000000  303.000000  303.000000   \n",
       "mean     0.528053  149.646865    0.326733    1.039604    1.399340    0.729373   \n",
       "std      0.525860   22.905161    0.469794    1.161075    0.616226    1.022606   \n",
       "min      0.000000   71.000000    0.000000    0.000000    0.000000    0.000000   \n",
       "25%      0.000000  133.500000    0.000000    0.000000    1.000000    0.000000   \n",
       "50%      1.000000  153.000000    0.000000    0.800000    1.000000    0.000000   \n",
       "75%      1.000000  166.000000    1.000000    1.600000    2.000000    1.000000   \n",
       "max      2.000000  202.000000    1.000000    6.200000    2.000000    4.000000   \n",
       "\n",
       "            thall      output  \n",
       "count  303.000000  303.000000  \n",
       "mean     2.313531    0.544554  \n",
       "std      0.612277    0.498835  \n",
       "min      0.000000    0.000000  \n",
       "25%      2.000000    0.000000  \n",
       "50%      2.000000    1.000000  \n",
       "75%      3.000000    1.000000  \n",
       "max      3.000000    1.000000  "
      ]
     },
     "execution_count": 5,
     "metadata": {},
     "output_type": "execute_result"
    }
   ],
   "source": [
    "data.describe(include='all')  ## description of all data"
   ]
  },
  {
   "cell_type": "code",
   "execution_count": 6,
   "id": "eb864263-671b-4f57-af49-ace36d1a3222",
   "metadata": {},
   "outputs": [
    {
     "data": {
      "text/html": [
       "<div>\n",
       "<style scoped>\n",
       "    .dataframe tbody tr th:only-of-type {\n",
       "        vertical-align: middle;\n",
       "    }\n",
       "\n",
       "    .dataframe tbody tr th {\n",
       "        vertical-align: top;\n",
       "    }\n",
       "\n",
       "    .dataframe thead th {\n",
       "        text-align: right;\n",
       "    }\n",
       "</style>\n",
       "<table border=\"1\" class=\"dataframe\">\n",
       "  <thead>\n",
       "    <tr style=\"text-align: right;\">\n",
       "      <th></th>\n",
       "      <th>age</th>\n",
       "      <th>sex</th>\n",
       "      <th>cp</th>\n",
       "      <th>trtbps</th>\n",
       "      <th>chol</th>\n",
       "      <th>fbs</th>\n",
       "      <th>restecg</th>\n",
       "      <th>thalachh</th>\n",
       "      <th>exng</th>\n",
       "      <th>oldpeak</th>\n",
       "      <th>slp</th>\n",
       "      <th>caa</th>\n",
       "      <th>thall</th>\n",
       "      <th>output</th>\n",
       "    </tr>\n",
       "  </thead>\n",
       "  <tbody>\n",
       "    <tr>\n",
       "      <th>count</th>\n",
       "      <td>165.000000</td>\n",
       "      <td>165.000000</td>\n",
       "      <td>165.000000</td>\n",
       "      <td>165.000000</td>\n",
       "      <td>165.000000</td>\n",
       "      <td>165.000000</td>\n",
       "      <td>165.000000</td>\n",
       "      <td>165.000000</td>\n",
       "      <td>165.000000</td>\n",
       "      <td>165.000000</td>\n",
       "      <td>165.000000</td>\n",
       "      <td>165.000000</td>\n",
       "      <td>165.000000</td>\n",
       "      <td>165.0</td>\n",
       "    </tr>\n",
       "    <tr>\n",
       "      <th>mean</th>\n",
       "      <td>52.496970</td>\n",
       "      <td>0.563636</td>\n",
       "      <td>1.375758</td>\n",
       "      <td>129.303030</td>\n",
       "      <td>242.230303</td>\n",
       "      <td>0.139394</td>\n",
       "      <td>0.593939</td>\n",
       "      <td>158.466667</td>\n",
       "      <td>0.139394</td>\n",
       "      <td>0.583030</td>\n",
       "      <td>1.593939</td>\n",
       "      <td>0.363636</td>\n",
       "      <td>2.121212</td>\n",
       "      <td>1.0</td>\n",
       "    </tr>\n",
       "    <tr>\n",
       "      <th>std</th>\n",
       "      <td>9.550651</td>\n",
       "      <td>0.497444</td>\n",
       "      <td>0.952222</td>\n",
       "      <td>16.169613</td>\n",
       "      <td>53.552872</td>\n",
       "      <td>0.347412</td>\n",
       "      <td>0.504818</td>\n",
       "      <td>19.174276</td>\n",
       "      <td>0.347412</td>\n",
       "      <td>0.780683</td>\n",
       "      <td>0.593635</td>\n",
       "      <td>0.848894</td>\n",
       "      <td>0.465752</td>\n",
       "      <td>0.0</td>\n",
       "    </tr>\n",
       "    <tr>\n",
       "      <th>min</th>\n",
       "      <td>29.000000</td>\n",
       "      <td>0.000000</td>\n",
       "      <td>0.000000</td>\n",
       "      <td>94.000000</td>\n",
       "      <td>126.000000</td>\n",
       "      <td>0.000000</td>\n",
       "      <td>0.000000</td>\n",
       "      <td>96.000000</td>\n",
       "      <td>0.000000</td>\n",
       "      <td>0.000000</td>\n",
       "      <td>0.000000</td>\n",
       "      <td>0.000000</td>\n",
       "      <td>0.000000</td>\n",
       "      <td>1.0</td>\n",
       "    </tr>\n",
       "    <tr>\n",
       "      <th>25%</th>\n",
       "      <td>44.000000</td>\n",
       "      <td>0.000000</td>\n",
       "      <td>1.000000</td>\n",
       "      <td>120.000000</td>\n",
       "      <td>208.000000</td>\n",
       "      <td>0.000000</td>\n",
       "      <td>0.000000</td>\n",
       "      <td>149.000000</td>\n",
       "      <td>0.000000</td>\n",
       "      <td>0.000000</td>\n",
       "      <td>1.000000</td>\n",
       "      <td>0.000000</td>\n",
       "      <td>2.000000</td>\n",
       "      <td>1.0</td>\n",
       "    </tr>\n",
       "    <tr>\n",
       "      <th>50%</th>\n",
       "      <td>52.000000</td>\n",
       "      <td>1.000000</td>\n",
       "      <td>2.000000</td>\n",
       "      <td>130.000000</td>\n",
       "      <td>234.000000</td>\n",
       "      <td>0.000000</td>\n",
       "      <td>1.000000</td>\n",
       "      <td>161.000000</td>\n",
       "      <td>0.000000</td>\n",
       "      <td>0.200000</td>\n",
       "      <td>2.000000</td>\n",
       "      <td>0.000000</td>\n",
       "      <td>2.000000</td>\n",
       "      <td>1.0</td>\n",
       "    </tr>\n",
       "    <tr>\n",
       "      <th>75%</th>\n",
       "      <td>59.000000</td>\n",
       "      <td>1.000000</td>\n",
       "      <td>2.000000</td>\n",
       "      <td>140.000000</td>\n",
       "      <td>267.000000</td>\n",
       "      <td>0.000000</td>\n",
       "      <td>1.000000</td>\n",
       "      <td>172.000000</td>\n",
       "      <td>0.000000</td>\n",
       "      <td>1.000000</td>\n",
       "      <td>2.000000</td>\n",
       "      <td>0.000000</td>\n",
       "      <td>2.000000</td>\n",
       "      <td>1.0</td>\n",
       "    </tr>\n",
       "    <tr>\n",
       "      <th>max</th>\n",
       "      <td>76.000000</td>\n",
       "      <td>1.000000</td>\n",
       "      <td>3.000000</td>\n",
       "      <td>180.000000</td>\n",
       "      <td>564.000000</td>\n",
       "      <td>1.000000</td>\n",
       "      <td>2.000000</td>\n",
       "      <td>202.000000</td>\n",
       "      <td>1.000000</td>\n",
       "      <td>4.200000</td>\n",
       "      <td>2.000000</td>\n",
       "      <td>4.000000</td>\n",
       "      <td>3.000000</td>\n",
       "      <td>1.0</td>\n",
       "    </tr>\n",
       "  </tbody>\n",
       "</table>\n",
       "</div>"
      ],
      "text/plain": [
       "              age         sex          cp      trtbps        chol         fbs  \\\n",
       "count  165.000000  165.000000  165.000000  165.000000  165.000000  165.000000   \n",
       "mean    52.496970    0.563636    1.375758  129.303030  242.230303    0.139394   \n",
       "std      9.550651    0.497444    0.952222   16.169613   53.552872    0.347412   \n",
       "min     29.000000    0.000000    0.000000   94.000000  126.000000    0.000000   \n",
       "25%     44.000000    0.000000    1.000000  120.000000  208.000000    0.000000   \n",
       "50%     52.000000    1.000000    2.000000  130.000000  234.000000    0.000000   \n",
       "75%     59.000000    1.000000    2.000000  140.000000  267.000000    0.000000   \n",
       "max     76.000000    1.000000    3.000000  180.000000  564.000000    1.000000   \n",
       "\n",
       "          restecg    thalachh        exng     oldpeak         slp         caa  \\\n",
       "count  165.000000  165.000000  165.000000  165.000000  165.000000  165.000000   \n",
       "mean     0.593939  158.466667    0.139394    0.583030    1.593939    0.363636   \n",
       "std      0.504818   19.174276    0.347412    0.780683    0.593635    0.848894   \n",
       "min      0.000000   96.000000    0.000000    0.000000    0.000000    0.000000   \n",
       "25%      0.000000  149.000000    0.000000    0.000000    1.000000    0.000000   \n",
       "50%      1.000000  161.000000    0.000000    0.200000    2.000000    0.000000   \n",
       "75%      1.000000  172.000000    0.000000    1.000000    2.000000    0.000000   \n",
       "max      2.000000  202.000000    1.000000    4.200000    2.000000    4.000000   \n",
       "\n",
       "            thall  output  \n",
       "count  165.000000   165.0  \n",
       "mean     2.121212     1.0  \n",
       "std      0.465752     0.0  \n",
       "min      0.000000     1.0  \n",
       "25%      2.000000     1.0  \n",
       "50%      2.000000     1.0  \n",
       "75%      2.000000     1.0  \n",
       "max      3.000000     1.0  "
      ]
     },
     "execution_count": 6,
     "metadata": {},
     "output_type": "execute_result"
    }
   ],
   "source": [
    "data[data['output']==1].describe()  ## description of all data where peaple have more chance of heart attack "
   ]
  },
  {
   "cell_type": "code",
   "execution_count": 7,
   "id": "1296b1cf-44db-4b0a-9e0d-0cb20c05e8ae",
   "metadata": {},
   "outputs": [
    {
     "data": {
      "text/plain": [
       "0.5445544554455446"
      ]
     },
     "execution_count": 7,
     "metadata": {},
     "output_type": "execute_result"
    }
   ],
   "source": [
    "data.output.mean()  ## 54,45 percent of patients have an increased risk of heart attack"
   ]
  },
  {
   "cell_type": "code",
   "execution_count": 8,
   "id": "625961bb-a14e-453b-a7ec-9c8d2cbcd415",
   "metadata": {},
   "outputs": [
    {
     "data": {
      "text/plain": [
       "0.6831683168316832"
      ]
     },
     "execution_count": 8,
     "metadata": {},
     "output_type": "execute_result"
    }
   ],
   "source": [
    "data['sex'].mean() "
   ]
  },
  {
   "cell_type": "code",
   "execution_count": 9,
   "id": "74e64a65-c5ee-4870-9567-8738fb6e1680",
   "metadata": {},
   "outputs": [
    {
     "data": {
      "image/png": "[encoded data removed]",
      "text/plain": [
       "<Figure size 576x432 with 1 Axes>"
      ]
     },
     "metadata": {
      "needs_background": "light"
     },
     "output_type": "display_data"
    }
   ],
   "source": [
    "plt.figure(figsize=[8,6])\n",
    "sns.histplot(data.age, binwidth=3, kde=True)\n",
    "plt.title('Distribution of age column')\n",
    "plt.show()"
   ]
  },
  {
   "cell_type": "code",
   "execution_count": 10,
   "id": "50b1f54f-c0cc-4424-9bbb-633497a39103",
   "metadata": {},
   "outputs": [
    {
     "data": {
      "image/png": "[encoded data removed]",
      "text/plain": [
       "<Figure size 576x432 with 1 Axes>"
      ]
     },
     "metadata": {
      "needs_background": "light"
     },
     "output_type": "display_data"
    }
   ],
   "source": [
    "plt.figure(figsize=[8,6])\n",
    "sns.histplot(data.trtbps, kde=True)\n",
    "plt.show()"
   ]
  },
  {
   "cell_type": "code",
   "execution_count": 11,
   "id": "e0286cb2-70fa-4f1d-a86a-2288334ea9a4",
   "metadata": {},
   "outputs": [
    {
     "data": {
      "image/png": "[encoded data removed]",
      "text/plain": [
       "<Figure size 720x576 with 1 Axes>"
      ]
     },
     "metadata": {
      "needs_background": "light"
     },
     "output_type": "display_data"
    }
   ],
   "source": [
    "plt.figure(figsize=[10,8])\n",
    "sns.histplot(data.chol, kde=True)\n",
    "plt.show()"
   ]
  },
  {
   "cell_type": "code",
   "execution_count": 12,
   "id": "13367c4c-60b9-4e2e-8d25-e03eae63ca65",
   "metadata": {},
   "outputs": [
    {
     "data": {
      "image/png": "[encoded data removed]",
      "text/plain": [
       "<Figure size 720x576 with 1 Axes>"
      ]
     },
     "metadata": {
      "needs_background": "light"
     },
     "output_type": "display_data"
    }
   ],
   "source": [
    "plt.figure(figsize=[10,8])\n",
    "sns.histplot(data.thalachh, kde=True)\n",
    "plt.show()"
   ]
  },
  {
   "cell_type": "code",
   "execution_count": 13,
   "id": "4e3995d5-74f9-4a88-8d16-627531b26560",
   "metadata": {},
   "outputs": [
    {
     "data": {
      "image/png": "[encoded data removed]",
      "text/plain": [
       "<Figure size 864x720 with 1 Axes>"
      ]
     },
     "metadata": {
      "needs_background": "light"
     },
     "output_type": "display_data"
    }
   ],
   "source": [
    "plt.figure(figsize=[12,10])\n",
    "sns.histplot(data.oldpeak, bins=30, kde=True, color='darkblue')\n",
    "plt.show()"
   ]
  },
  {
   "cell_type": "markdown",
   "id": "fec762f1-056d-4cfa-8c20-bee4af3a07c4",
   "metadata": {},
   "source": [
    "### Classification modeling   "
   ]
  },
  {
   "cell_type": "markdown",
   "id": "57f03b4a-7005-4569-8592-bf392b5e6328",
   "metadata": {},
   "source": [
    "**One-hot encoding and standardization**"
   ]
  },
  {
   "cell_type": "code",
   "execution_count": 14,
   "id": "81e28968-2168-46bd-9d77-5acb10a8d00d",
   "metadata": {},
   "outputs": [],
   "source": [
    "#division of the dataset \n",
    "categorical = ['sex','exng','caa','cp','fbs','restecg','slp','thall']\n",
    "numerical = [\"age\",\"trtbps\",\"chol\",\"thalachh\",\"oldpeak\"]\n",
    "\n",
    "# one-hot encoding\n",
    "data = pd.get_dummies(data, columns = categorical, drop_first=True)\n",
    "\n",
    "# defining the features and target\n",
    "X = data.drop(['output'], axis=1)\n",
    "y = data['output']\n",
    "\n",
    "# instantiating the scaler\n",
    "scaler = StandardScaler()\n",
    "\n",
    "# scaling the continuous featuree\n",
    "X[numerical] = scaler.fit_transform(X[numerical])"
   ]
  },
  {
   "cell_type": "code",
   "execution_count": 15,
   "id": "bef8b1b7-1993-4f6b-aef1-6aea75f48168",
   "metadata": {},
   "outputs": [
    {
     "data": {
      "text/html": [
       "<div>\n",
       "<style scoped>\n",
       "    .dataframe tbody tr th:only-of-type {\n",
       "        vertical-align: middle;\n",
       "    }\n",
       "\n",
       "    .dataframe tbody tr th {\n",
       "        vertical-align: top;\n",
       "    }\n",
       "\n",
       "    .dataframe thead th {\n",
       "        text-align: right;\n",
       "    }\n",
       "</style>\n",
       "<table border=\"1\" class=\"dataframe\">\n",
       "  <thead>\n",
       "    <tr style=\"text-align: right;\">\n",
       "      <th></th>\n",
       "      <th>age</th>\n",
       "      <th>trtbps</th>\n",
       "      <th>chol</th>\n",
       "      <th>thalachh</th>\n",
       "      <th>oldpeak</th>\n",
       "      <th>sex_1</th>\n",
       "      <th>exng_1</th>\n",
       "      <th>caa_1</th>\n",
       "      <th>caa_2</th>\n",
       "      <th>caa_3</th>\n",
       "      <th>...</th>\n",
       "      <th>cp_2</th>\n",
       "      <th>cp_3</th>\n",
       "      <th>fbs_1</th>\n",
       "      <th>restecg_1</th>\n",
       "      <th>restecg_2</th>\n",
       "      <th>slp_1</th>\n",
       "      <th>slp_2</th>\n",
       "      <th>thall_1</th>\n",
       "      <th>thall_2</th>\n",
       "      <th>thall_3</th>\n",
       "    </tr>\n",
       "  </thead>\n",
       "  <tbody>\n",
       "    <tr>\n",
       "      <th>0</th>\n",
       "      <td>0.952197</td>\n",
       "      <td>0.763956</td>\n",
       "      <td>-0.256334</td>\n",
       "      <td>0.015443</td>\n",
       "      <td>1.087338</td>\n",
       "      <td>1</td>\n",
       "      <td>0</td>\n",
       "      <td>0</td>\n",
       "      <td>0</td>\n",
       "      <td>0</td>\n",
       "      <td>...</td>\n",
       "      <td>0</td>\n",
       "      <td>1</td>\n",
       "      <td>1</td>\n",
       "      <td>0</td>\n",
       "      <td>0</td>\n",
       "      <td>0</td>\n",
       "      <td>0</td>\n",
       "      <td>1</td>\n",
       "      <td>0</td>\n",
       "      <td>0</td>\n",
       "    </tr>\n",
       "    <tr>\n",
       "      <th>1</th>\n",
       "      <td>-1.915313</td>\n",
       "      <td>-0.092738</td>\n",
       "      <td>0.072199</td>\n",
       "      <td>1.633471</td>\n",
       "      <td>2.122573</td>\n",
       "      <td>1</td>\n",
       "      <td>0</td>\n",
       "      <td>0</td>\n",
       "      <td>0</td>\n",
       "      <td>0</td>\n",
       "      <td>...</td>\n",
       "      <td>1</td>\n",
       "      <td>0</td>\n",
       "      <td>0</td>\n",
       "      <td>1</td>\n",
       "      <td>0</td>\n",
       "      <td>0</td>\n",
       "      <td>0</td>\n",
       "      <td>0</td>\n",
       "      <td>1</td>\n",
       "      <td>0</td>\n",
       "    </tr>\n",
       "    <tr>\n",
       "      <th>2</th>\n",
       "      <td>-1.474158</td>\n",
       "      <td>-0.092738</td>\n",
       "      <td>-0.816773</td>\n",
       "      <td>0.977514</td>\n",
       "      <td>0.310912</td>\n",
       "      <td>0</td>\n",
       "      <td>0</td>\n",
       "      <td>0</td>\n",
       "      <td>0</td>\n",
       "      <td>0</td>\n",
       "      <td>...</td>\n",
       "      <td>0</td>\n",
       "      <td>0</td>\n",
       "      <td>0</td>\n",
       "      <td>0</td>\n",
       "      <td>0</td>\n",
       "      <td>0</td>\n",
       "      <td>1</td>\n",
       "      <td>0</td>\n",
       "      <td>1</td>\n",
       "      <td>0</td>\n",
       "    </tr>\n",
       "    <tr>\n",
       "      <th>3</th>\n",
       "      <td>0.180175</td>\n",
       "      <td>-0.663867</td>\n",
       "      <td>-0.198357</td>\n",
       "      <td>1.239897</td>\n",
       "      <td>-0.206705</td>\n",
       "      <td>1</td>\n",
       "      <td>0</td>\n",
       "      <td>0</td>\n",
       "      <td>0</td>\n",
       "      <td>0</td>\n",
       "      <td>...</td>\n",
       "      <td>0</td>\n",
       "      <td>0</td>\n",
       "      <td>0</td>\n",
       "      <td>1</td>\n",
       "      <td>0</td>\n",
       "      <td>0</td>\n",
       "      <td>1</td>\n",
       "      <td>0</td>\n",
       "      <td>1</td>\n",
       "      <td>0</td>\n",
       "    </tr>\n",
       "    <tr>\n",
       "      <th>4</th>\n",
       "      <td>0.290464</td>\n",
       "      <td>-0.663867</td>\n",
       "      <td>2.082050</td>\n",
       "      <td>0.583939</td>\n",
       "      <td>-0.379244</td>\n",
       "      <td>0</td>\n",
       "      <td>1</td>\n",
       "      <td>0</td>\n",
       "      <td>0</td>\n",
       "      <td>0</td>\n",
       "      <td>...</td>\n",
       "      <td>0</td>\n",
       "      <td>0</td>\n",
       "      <td>0</td>\n",
       "      <td>1</td>\n",
       "      <td>0</td>\n",
       "      <td>0</td>\n",
       "      <td>1</td>\n",
       "      <td>0</td>\n",
       "      <td>1</td>\n",
       "      <td>0</td>\n",
       "    </tr>\n",
       "    <tr>\n",
       "      <th>5</th>\n",
       "      <td>0.290464</td>\n",
       "      <td>0.478391</td>\n",
       "      <td>-1.048678</td>\n",
       "      <td>-0.072018</td>\n",
       "      <td>-0.551783</td>\n",
       "      <td>1</td>\n",
       "      <td>0</td>\n",
       "      <td>0</td>\n",
       "      <td>0</td>\n",
       "      <td>0</td>\n",
       "      <td>...</td>\n",
       "      <td>0</td>\n",
       "      <td>0</td>\n",
       "      <td>0</td>\n",
       "      <td>1</td>\n",
       "      <td>0</td>\n",
       "      <td>1</td>\n",
       "      <td>0</td>\n",
       "      <td>1</td>\n",
       "      <td>0</td>\n",
       "      <td>0</td>\n",
       "    </tr>\n",
       "    <tr>\n",
       "      <th>6</th>\n",
       "      <td>0.180175</td>\n",
       "      <td>0.478391</td>\n",
       "      <td>0.922521</td>\n",
       "      <td>0.146634</td>\n",
       "      <td>0.224643</td>\n",
       "      <td>0</td>\n",
       "      <td>0</td>\n",
       "      <td>0</td>\n",
       "      <td>0</td>\n",
       "      <td>0</td>\n",
       "      <td>...</td>\n",
       "      <td>0</td>\n",
       "      <td>0</td>\n",
       "      <td>0</td>\n",
       "      <td>0</td>\n",
       "      <td>0</td>\n",
       "      <td>1</td>\n",
       "      <td>0</td>\n",
       "      <td>0</td>\n",
       "      <td>1</td>\n",
       "      <td>0</td>\n",
       "    </tr>\n",
       "    <tr>\n",
       "      <th>7</th>\n",
       "      <td>-1.143291</td>\n",
       "      <td>-0.663867</td>\n",
       "      <td>0.323431</td>\n",
       "      <td>1.021244</td>\n",
       "      <td>-0.896862</td>\n",
       "      <td>1</td>\n",
       "      <td>0</td>\n",
       "      <td>0</td>\n",
       "      <td>0</td>\n",
       "      <td>0</td>\n",
       "      <td>...</td>\n",
       "      <td>0</td>\n",
       "      <td>0</td>\n",
       "      <td>0</td>\n",
       "      <td>1</td>\n",
       "      <td>0</td>\n",
       "      <td>0</td>\n",
       "      <td>1</td>\n",
       "      <td>0</td>\n",
       "      <td>0</td>\n",
       "      <td>1</td>\n",
       "    </tr>\n",
       "    <tr>\n",
       "      <th>8</th>\n",
       "      <td>-0.260980</td>\n",
       "      <td>2.306004</td>\n",
       "      <td>-0.913400</td>\n",
       "      <td>0.540209</td>\n",
       "      <td>-0.465514</td>\n",
       "      <td>1</td>\n",
       "      <td>0</td>\n",
       "      <td>0</td>\n",
       "      <td>0</td>\n",
       "      <td>0</td>\n",
       "      <td>...</td>\n",
       "      <td>1</td>\n",
       "      <td>0</td>\n",
       "      <td>1</td>\n",
       "      <td>1</td>\n",
       "      <td>0</td>\n",
       "      <td>0</td>\n",
       "      <td>1</td>\n",
       "      <td>0</td>\n",
       "      <td>0</td>\n",
       "      <td>1</td>\n",
       "    </tr>\n",
       "    <tr>\n",
       "      <th>9</th>\n",
       "      <td>0.290464</td>\n",
       "      <td>1.049520</td>\n",
       "      <td>-1.512490</td>\n",
       "      <td>1.064975</td>\n",
       "      <td>0.483451</td>\n",
       "      <td>1</td>\n",
       "      <td>0</td>\n",
       "      <td>0</td>\n",
       "      <td>0</td>\n",
       "      <td>0</td>\n",
       "      <td>...</td>\n",
       "      <td>1</td>\n",
       "      <td>0</td>\n",
       "      <td>0</td>\n",
       "      <td>1</td>\n",
       "      <td>0</td>\n",
       "      <td>0</td>\n",
       "      <td>1</td>\n",
       "      <td>0</td>\n",
       "      <td>1</td>\n",
       "      <td>0</td>\n",
       "    </tr>\n",
       "  </tbody>\n",
       "</table>\n",
       "<p>10 rows × 22 columns</p>\n",
       "</div>"
      ],
      "text/plain": [
       "        age    trtbps      chol  thalachh   oldpeak  sex_1  exng_1  caa_1  \\\n",
       "0  0.952197  0.763956 -0.256334  0.015443  1.087338      1       0      0   \n",
       "1 -1.915313 -0.092738  0.072199  1.633471  2.122573      1       0      0   \n",
       "2 -1.474158 -0.092738 -0.816773  0.977514  0.310912      0       0      0   \n",
       "3  0.180175 -0.663867 -0.198357  1.239897 -0.206705      1       0      0   \n",
       "4  0.290464 -0.663867  2.082050  0.583939 -0.379244      0       1      0   \n",
       "5  0.290464  0.478391 -1.048678 -0.072018 -0.551783      1       0      0   \n",
       "6  0.180175  0.478391  0.922521  0.146634  0.224643      0       0      0   \n",
       "7 -1.143291 -0.663867  0.323431  1.021244 -0.896862      1       0      0   \n",
       "8 -0.260980  2.306004 -0.913400  0.540209 -0.465514      1       0      0   \n",
       "9  0.290464  1.049520 -1.512490  1.064975  0.483451      1       0      0   \n",
       "\n",
       "   caa_2  caa_3  ...  cp_2  cp_3  fbs_1  restecg_1  restecg_2  slp_1  slp_2  \\\n",
       "0      0      0  ...     0     1      1          0          0      0      0   \n",
       "1      0      0  ...     1     0      0          1          0      0      0   \n",
       "2      0      0  ...     0     0      0          0          0      0      1   \n",
       "3      0      0  ...     0     0      0          1          0      0      1   \n",
       "4      0      0  ...     0     0      0          1          0      0      1   \n",
       "5      0      0  ...     0     0      0          1          0      1      0   \n",
       "6      0      0  ...     0     0      0          0          0      1      0   \n",
       "7      0      0  ...     0     0      0          1          0      0      1   \n",
       "8      0      0  ...     1     0      1          1          0      0      1   \n",
       "9      0      0  ...     1     0      0          1          0      0      1   \n",
       "\n",
       "   thall_1  thall_2  thall_3  \n",
       "0        1        0        0  \n",
       "1        0        1        0  \n",
       "2        0        1        0  \n",
       "3        0        1        0  \n",
       "4        0        1        0  \n",
       "5        1        0        0  \n",
       "6        0        1        0  \n",
       "7        0        0        1  \n",
       "8        0        0        1  \n",
       "9        0        1        0  \n",
       "\n",
       "[10 rows x 22 columns]"
      ]
     },
     "execution_count": 15,
     "metadata": {},
     "output_type": "execute_result"
    }
   ],
   "source": [
    "X.head(10)"
   ]
  },
  {
   "cell_type": "code",
   "execution_count": 16,
   "id": "de109991-cc96-424d-a195-5f878ea828da",
   "metadata": {},
   "outputs": [],
   "source": [
    "X_train, X_test, y_train, y_test = train_test_split(X,y, test_size=0.2, random_state=123)"
   ]
  },
  {
   "cell_type": "markdown",
   "id": "cd029e46-1530-4ca4-ac69-ce1f9609de6d",
   "metadata": {},
   "source": [
    "**Simple Decision Tree with visualization**"
   ]
  },
  {
   "cell_type": "code",
   "execution_count": 17,
   "id": "e61e56ea-3839-4fc1-8cd7-d5a45e8019ac",
   "metadata": {},
   "outputs": [
    {
     "data": {
      "text/plain": [
       "DecisionTreeClassifier(max_depth=3)"
      ]
     },
     "execution_count": 17,
     "metadata": {},
     "output_type": "execute_result"
    }
   ],
   "source": [
    "model = DecisionTreeClassifier(max_depth=3)\n",
    "model.fit(X_train, y_train)"
   ]
  },
  {
   "cell_type": "code",
   "execution_count": 18,
   "id": "6ffa6333-c1dd-4869-a1be-41e36c34cb9c",
   "metadata": {},
   "outputs": [
    {
     "data": {
      "text/plain": [
       "0.7540983606557377"
      ]
     },
     "execution_count": 18,
     "metadata": {},
     "output_type": "execute_result"
    }
   ],
   "source": [
    "accuracy_score(y_test, model.predict(X_test))"
   ]
  },
  {
   "cell_type": "code",
   "execution_count": 19,
   "id": "cd925a95-e32d-44eb-9ae0-a2088256f7b4",
   "metadata": {},
   "outputs": [
    {
     "data": {
      "text/plain": [
       "0.7457627118644068"
      ]
     },
     "execution_count": 19,
     "metadata": {},
     "output_type": "execute_result"
    }
   ],
   "source": [
    "f1_score(y_test, model.predict(X_test))"
   ]
  },
  {
   "cell_type": "code",
   "execution_count": 20,
   "id": "36bd5b95-9dd5-455c-bf66-b5ebdbceaa0d",
   "metadata": {},
   "outputs": [
    {
     "data": {
      "text/plain": [
       "array([[0.06666667, 0.93333333],\n",
       "       [0.93548387, 0.06451613],\n",
       "       [0.93548387, 0.06451613],\n",
       "       [1.        , 0.        ],\n",
       "       [0.06666667, 0.93333333],\n",
       "       [0.93548387, 0.06451613],\n",
       "       [0.06666667, 0.93333333],\n",
       "       [0.54054054, 0.45945946],\n",
       "       [0.29166667, 0.70833333],\n",
       "       [0.06666667, 0.93333333],\n",
       "       [0.54054054, 0.45945946],\n",
       "       [0.54054054, 0.45945946],\n",
       "       [0.93548387, 0.06451613],\n",
       "       [0.93548387, 0.06451613],\n",
       "       [0.54054054, 0.45945946]])"
      ]
     },
     "execution_count": 20,
     "metadata": {},
     "output_type": "execute_result"
    }
   ],
   "source": [
    "model.predict_proba(X_test)[:15]"
   ]
  },
  {
   "cell_type": "code",
   "execution_count": 21,
   "id": "337b3cb5-b38b-428e-b069-ab1b9b76d8e7",
   "metadata": {},
   "outputs": [
    {
     "data": {
      "image/png": "[encoded data removed]",
      "text/plain": [
       "<Figure size 1440x1080 with 1 Axes>"
      ]
     },
     "metadata": {
      "needs_background": "light"
     },
     "output_type": "display_data"
    }
   ],
   "source": [
    "plt.figure(figsize=(20,15))\n",
    "plot_tree(model, feature_names=X_train.columns, fontsize=15, filled=True)\n",
    "plt.show()"
   ]
  },
  {
   "cell_type": "markdown",
   "id": "ab15a20e-7cc8-4d46-b38b-0f1e65770e47",
   "metadata": {},
   "source": [
    "**Cross validations**"
   ]
  },
  {
   "cell_type": "code",
   "execution_count": 22,
   "id": "c083bc83-f596-4d8f-862f-70b298c88088",
   "metadata": {},
   "outputs": [],
   "source": [
    "X_train_val, X_val, y_train_val, y_val = train_test_split(X_train, y_train, test_size=0.2, random_state=1)"
   ]
  },
  {
   "cell_type": "code",
   "execution_count": 23,
   "id": "f9883b70-3679-4344-8015-cd8b5376e3c1",
   "metadata": {},
   "outputs": [
    {
     "data": {
      "text/plain": [
       "array([0.65      , 0.8       , 0.75      , 0.73684211, 0.78947368,\n",
       "       0.78947368, 0.89473684, 0.63157895, 0.52631579, 0.89473684])"
      ]
     },
     "execution_count": 23,
     "metadata": {},
     "output_type": "execute_result"
    }
   ],
   "source": [
    "model = DecisionTreeClassifier()\n",
    "cross_val_score(model, X_train_val, y_train_val,\n",
    "                scoring='accuracy', cv = 10, n_jobs=-1)"
   ]
  },
  {
   "cell_type": "code",
   "execution_count": 24,
   "id": "e41cce73-9fbf-4f10-93f5-f06aa82b5103",
   "metadata": {},
   "outputs": [
    {
     "data": {
      "text/plain": [
       "0.7231666666666666"
      ]
     },
     "execution_count": 24,
     "metadata": {},
     "output_type": "execute_result"
    }
   ],
   "source": [
    "cross_val_score(model, X_train, y_train,\n",
    "                scoring='accuracy', cv = 10, n_jobs=-1).mean()"
   ]
  },
  {
   "cell_type": "code",
   "execution_count": 25,
   "id": "94ab57e1-cc28-4359-accd-a4bd8ea7adbe",
   "metadata": {},
   "outputs": [
    {
     "data": {
      "text/plain": [
       "DecisionTreeClassifier()"
      ]
     },
     "execution_count": 25,
     "metadata": {},
     "output_type": "execute_result"
    }
   ],
   "source": [
    "model.fit(X_train_val, y_train_val)"
   ]
  },
  {
   "cell_type": "code",
   "execution_count": 26,
   "id": "d4d36764-dcce-419f-9a2d-92a9326e7671",
   "metadata": {},
   "outputs": [
    {
     "data": {
      "text/plain": [
       "0.7142857142857143"
      ]
     },
     "execution_count": 26,
     "metadata": {},
     "output_type": "execute_result"
    }
   ],
   "source": [
    "accuracy_score(y_val, model.predict(X_val))"
   ]
  },
  {
   "cell_type": "code",
   "execution_count": 27,
   "id": "924d940b-3391-44e3-829d-0d163d141a26",
   "metadata": {},
   "outputs": [
    {
     "data": {
      "text/plain": [
       "0.7307692307692308"
      ]
     },
     "execution_count": 27,
     "metadata": {},
     "output_type": "execute_result"
    }
   ],
   "source": [
    "f1_score(y_val, model.predict(X_val))"
   ]
  },
  {
   "cell_type": "markdown",
   "id": "64acf933-c2f8-4e8d-9448-d92695e8011b",
   "metadata": {
    "jp-MarkdownHeadingCollapsed": true,
    "tags": []
   },
   "source": [
    "**Decision Tree with Pipeline**"
   ]
  },
  {
   "cell_type": "code",
   "execution_count": 28,
   "id": "55bdf633-f681-4886-ba0d-eb5914790327",
   "metadata": {},
   "outputs": [
    {
     "data": {
      "text/plain": [
       "GridSearchCV(cv=5,\n",
       "             estimator=Pipeline(steps=[('model',\n",
       "                                        DecisionTreeClassifier(criterion='entropy'))]),\n",
       "             n_jobs=-1,\n",
       "             param_grid={'model__ccp_alpha': [0.01, 0.05, 0.1, 0.25, 0.5, 0.75,\n",
       "                                              1],\n",
       "                         'model__max_depth': [1, 2, 3, 5, 7, 10, 15],\n",
       "                         'model__min_samples_leaf': [5, 10, 20, 30, 50, 100],\n",
       "                         'model__min_samples_split': [1, 2, 3, 4, 5]},\n",
       "             scoring='accuracy')"
      ]
     },
     "execution_count": 28,
     "metadata": {},
     "output_type": "execute_result"
    }
   ],
   "source": [
    "model = Pipeline([(\"model\", DecisionTreeClassifier(criterion='entropy'))])\n",
    "\n",
    "param_grid = {'model__ccp_alpha':[0.01,0.05,0.1,0.25,0.5,0.75,1],\n",
    "              'model__max_depth':[1,2,3,5,7,10,15],\n",
    "              'model__min_samples_split':[1,2,3,4,5],\n",
    "              \"model__min_samples_leaf\":[5,10,20,30,50,100]}\n",
    "\n",
    "optimizer = GridSearchCV(model, param_grid, scoring='accuracy', cv=5 ,n_jobs=-1)\n",
    "\n",
    "optimizer.fit(X_train, y_train)"
   ]
  },
  {
   "cell_type": "code",
   "execution_count": 29,
   "id": "c8dca3b9-aaf5-4260-9826-2f5d81e2e873",
   "metadata": {},
   "outputs": [
    {
     "data": {
      "text/plain": [
       "array(['age', 'trtbps', 'chol', 'thalachh', 'oldpeak', 'sex_1', 'exng_1',\n",
       "       'caa_1', 'caa_2', 'caa_3', 'caa_4', 'cp_1', 'cp_2', 'cp_3',\n",
       "       'fbs_1', 'restecg_1', 'restecg_2', 'slp_1', 'slp_2', 'thall_1',\n",
       "       'thall_2', 'thall_3'], dtype=object)"
      ]
     },
     "execution_count": 29,
     "metadata": {},
     "output_type": "execute_result"
    }
   ],
   "source": [
    "optimizer.feature_names_in_"
   ]
  },
  {
   "cell_type": "code",
   "execution_count": 30,
   "id": "f3389c0b-2a25-4205-907a-51b7a2c105ab",
   "metadata": {},
   "outputs": [
    {
     "data": {
      "text/plain": [
       "{'model__ccp_alpha': 0.01,\n",
       " 'model__max_depth': 1,\n",
       " 'model__min_samples_leaf': 5,\n",
       " 'model__min_samples_split': 2}"
      ]
     },
     "execution_count": 30,
     "metadata": {},
     "output_type": "execute_result"
    }
   ],
   "source": [
    "optimizer.best_params_"
   ]
  },
  {
   "cell_type": "code",
   "execution_count": 31,
   "id": "9fdfd699-7d49-4da9-9e6b-c6883963e02d",
   "metadata": {},
   "outputs": [
    {
     "data": {
      "text/plain": [
       "0.7646258503401361"
      ]
     },
     "execution_count": 31,
     "metadata": {},
     "output_type": "execute_result"
    }
   ],
   "source": [
    "optimizer.best_score_"
   ]
  },
  {
   "cell_type": "code",
   "execution_count": 32,
   "id": "035f6465-7824-445b-84f3-678b8da201e9",
   "metadata": {},
   "outputs": [
    {
     "data": {
      "text/plain": [
       "0.7704918032786885"
      ]
     },
     "execution_count": 32,
     "metadata": {},
     "output_type": "execute_result"
    }
   ],
   "source": [
    "accuracy_score(y_test, optimizer.predict(X_test))"
   ]
  },
  {
   "cell_type": "code",
   "execution_count": 33,
   "id": "8245aaab-7250-4799-a664-2fbe255b0603",
   "metadata": {},
   "outputs": [
    {
     "data": {
      "text/plain": [
       "0.7741935483870968"
      ]
     },
     "execution_count": 33,
     "metadata": {},
     "output_type": "execute_result"
    }
   ],
   "source": [
    "f1_score(y_test, optimizer.predict(X_test))"
   ]
  },
  {
   "cell_type": "code",
   "execution_count": 34,
   "id": "f7b4a726-ce05-4bb0-b902-9c16c6aa80bd",
   "metadata": {},
   "outputs": [
    {
     "data": {
      "text/plain": [
       "array([[0.21481481, 0.78518519],\n",
       "       [0.73831776, 0.26168224],\n",
       "       [0.73831776, 0.26168224],\n",
       "       [0.21481481, 0.78518519],\n",
       "       [0.21481481, 0.78518519],\n",
       "       [0.73831776, 0.26168224],\n",
       "       [0.21481481, 0.78518519],\n",
       "       [0.73831776, 0.26168224],\n",
       "       [0.21481481, 0.78518519],\n",
       "       [0.21481481, 0.78518519],\n",
       "       [0.73831776, 0.26168224],\n",
       "       [0.73831776, 0.26168224],\n",
       "       [0.73831776, 0.26168224],\n",
       "       [0.73831776, 0.26168224],\n",
       "       [0.73831776, 0.26168224]])"
      ]
     },
     "execution_count": 34,
     "metadata": {},
     "output_type": "execute_result"
    }
   ],
   "source": [
    "optimizer.predict_proba(X_test)[:15]"
   ]
  },
  {
   "cell_type": "markdown",
   "id": "2ed4eea2-51f4-4bca-ac12-278e1399714e",
   "metadata": {},
   "source": [
    "**Logistic Regression**"
   ]
  },
  {
   "cell_type": "code",
   "execution_count": 35,
   "id": "6b71d3a4-218f-4ed5-984b-98046ab7658d",
   "metadata": {},
   "outputs": [
    {
     "data": {
      "text/plain": [
       "0.8032786885245902"
      ]
     },
     "execution_count": 35,
     "metadata": {},
     "output_type": "execute_result"
    }
   ],
   "source": [
    "model = LogisticRegression(max_iter=500)\n",
    "model.fit(X_train, y_train)\n",
    "accuracy_score(y_test, model.predict(X_test))"
   ]
  },
  {
   "cell_type": "code",
   "execution_count": 36,
   "id": "3fd3a057-9502-4cd7-9c77-98c70e633937",
   "metadata": {},
   "outputs": [
    {
     "name": "stdout",
     "output_type": "stream",
     "text": [
      "Wall time: 2.45 s\n"
     ]
    },
    {
     "data": {
      "text/plain": [
       "GridSearchCV(cv=10,\n",
       "             estimator=Pipeline(steps=[('model',\n",
       "                                        LogisticRegression(max_iter=500))]),\n",
       "             n_jobs=-1,\n",
       "             param_grid={'model__C': [0.01, 0.1, 0.2, 0.25, 0.3, 0.5, 0.75, 1],\n",
       "                         'model__penalty': ['l1', 'l2'],\n",
       "                         'model__solver': ['newton-cg', 'lbfgs', 'liblinear',\n",
       "                                           'sag', 'saga']},\n",
       "             scoring='accuracy')"
      ]
     },
     "execution_count": 36,
     "metadata": {},
     "output_type": "execute_result"
    }
   ],
   "source": [
    "%%time\n",
    "\n",
    "model = Pipeline([(\"model\", LogisticRegression(max_iter=500))])\n",
    "\n",
    "param_grid = {'model__penalty':['l1','l2'],\n",
    "              'model__C':[0.01, 0.1, 0.2, 0.25, 0.3, 0.5, 0.75, 1],\n",
    "              'model__solver':['newton-cg', 'lbfgs', 'liblinear', 'sag', 'saga']}\n",
    "\n",
    "optimizer = GridSearchCV(model, param_grid, scoring='accuracy', cv=10 ,n_jobs=-1)\n",
    "\n",
    "optimizer.fit(X_train, y_train)"
   ]
  },
  {
   "cell_type": "code",
   "execution_count": 37,
   "id": "8ef5d9a5-02b4-439c-9e05-161831eda261",
   "metadata": {},
   "outputs": [
    {
     "data": {
      "text/plain": [
       "Pipeline(steps=[('model',\n",
       "                 LogisticRegression(C=1, max_iter=500, penalty='l1',\n",
       "                                    solver='saga'))])"
      ]
     },
     "execution_count": 37,
     "metadata": {},
     "output_type": "execute_result"
    }
   ],
   "source": [
    "optimizer.best_estimator_"
   ]
  },
  {
   "cell_type": "code",
   "execution_count": 38,
   "id": "6dd78732-0f63-48d9-927b-2f49a6771974",
   "metadata": {},
   "outputs": [
    {
     "data": {
      "text/plain": [
       "{'model__C': 1, 'model__penalty': 'l1', 'model__solver': 'saga'}"
      ]
     },
     "execution_count": 38,
     "metadata": {},
     "output_type": "execute_result"
    }
   ],
   "source": [
    "optimizer.best_params_"
   ]
  },
  {
   "cell_type": "code",
   "execution_count": 39,
   "id": "47219c8b-bd74-4c77-ab18-5dcd8f030e8b",
   "metadata": {},
   "outputs": [
    {
     "data": {
      "text/plain": [
       "0.8718333333333333"
      ]
     },
     "execution_count": 39,
     "metadata": {},
     "output_type": "execute_result"
    }
   ],
   "source": [
    "optimizer.best_score_"
   ]
  },
  {
   "cell_type": "code",
   "execution_count": 40,
   "id": "3698f888-0e06-43f5-b321-78c7a02f7c6b",
   "metadata": {},
   "outputs": [
    {
     "data": {
      "text/plain": [
       "0.7540983606557377"
      ]
     },
     "execution_count": 40,
     "metadata": {},
     "output_type": "execute_result"
    }
   ],
   "source": [
    "accuracy_score(y_test, optimizer.predict(X_test))"
   ]
  },
  {
   "cell_type": "code",
   "execution_count": 41,
   "id": "dbcd7751-744a-484d-87ea-d9e18f7e802a",
   "metadata": {},
   "outputs": [
    {
     "data": {
      "text/plain": [
       "0.7540983606557377"
      ]
     },
     "execution_count": 41,
     "metadata": {},
     "output_type": "execute_result"
    }
   ],
   "source": [
    "f1_score(y_test, optimizer.predict(X_test))"
   ]
  },
  {
   "cell_type": "markdown",
   "id": "74be9987-66d1-4862-8820-86393b0ea051",
   "metadata": {},
   "source": [
    "**Logistic Regression with polynomial features**"
   ]
  },
  {
   "cell_type": "code",
   "execution_count": 42,
   "id": "a585bf5c-2b18-40d6-900f-ca1fe23c375b",
   "metadata": {},
   "outputs": [
    {
     "name": "stdout",
     "output_type": "stream",
     "text": [
      "Wall time: 9min 21s\n"
     ]
    },
    {
     "data": {
      "text/plain": [
       "GridSearchCV(cv=10,\n",
       "             estimator=Pipeline(steps=[('poly',\n",
       "                                        PolynomialFeatures(include_bias=False)),\n",
       "                                       ('model',\n",
       "                                        LogisticRegression(max_iter=500))]),\n",
       "             n_jobs=-1,\n",
       "             param_grid={'model__C': [0.01, 0.1, 0.2, 0.25, 0.3, 0.5, 0.75, 1],\n",
       "                         'model__penalty': ['l1', 'l2'],\n",
       "                         'model__solver': ['newton-cg', 'lbfgs', 'liblinear',\n",
       "                                           'sag', 'saga'],\n",
       "                         'poly__degree': [1, 2, 3]},\n",
       "             scoring='accuracy')"
      ]
     },
     "execution_count": 42,
     "metadata": {},
     "output_type": "execute_result"
    }
   ],
   "source": [
    "%%time\n",
    "\n",
    "model = Pipeline([('poly', PolynomialFeatures(include_bias=False)), \n",
    "                  (\"model\", LogisticRegression(max_iter=500))\n",
    "                 ])\n",
    "\n",
    "param_grid = {'poly__degree':[1,2,3], \n",
    "              'model__penalty':['l1','l2'],\n",
    "              'model__C':[0.01, 0.1, 0.2, 0.25, 0.3, 0.5, 0.75, 1],\n",
    "              'model__solver':['newton-cg', 'lbfgs', 'liblinear', 'sag', 'saga']}\n",
    "\n",
    "optimizer = GridSearchCV(model, param_grid, scoring='accuracy', cv=10 ,n_jobs=-1)\n",
    "\n",
    "optimizer.fit(X_train, y_train)"
   ]
  },
  {
   "cell_type": "code",
   "execution_count": 43,
   "id": "f856941e-0143-4e19-9d6d-a318bb0e5c95",
   "metadata": {},
   "outputs": [
    {
     "data": {
      "text/plain": [
       "Pipeline(steps=[('poly', PolynomialFeatures(degree=1, include_bias=False)),\n",
       "                ('model',\n",
       "                 LogisticRegression(C=1, max_iter=500, penalty='l1',\n",
       "                                    solver='saga'))])"
      ]
     },
     "execution_count": 43,
     "metadata": {},
     "output_type": "execute_result"
    }
   ],
   "source": [
    "optimizer.best_estimator_"
   ]
  },
  {
   "cell_type": "code",
   "execution_count": 44,
   "id": "60cfae91-c426-4d97-a404-ddfee922d283",
   "metadata": {},
   "outputs": [
    {
     "data": {
      "text/plain": [
       "{'model__C': 1,\n",
       " 'model__penalty': 'l1',\n",
       " 'model__solver': 'saga',\n",
       " 'poly__degree': 1}"
      ]
     },
     "execution_count": 44,
     "metadata": {},
     "output_type": "execute_result"
    }
   ],
   "source": [
    "optimizer.best_params_"
   ]
  },
  {
   "cell_type": "code",
   "execution_count": 45,
   "id": "7f1a643b-b307-4e89-be16-a3bede2f9d1f",
   "metadata": {},
   "outputs": [
    {
     "data": {
      "text/plain": [
       "0.8718333333333333"
      ]
     },
     "execution_count": 45,
     "metadata": {},
     "output_type": "execute_result"
    }
   ],
   "source": [
    "optimizer.best_score_"
   ]
  },
  {
   "cell_type": "code",
   "execution_count": 46,
   "id": "e1bed8b0-6263-4902-b062-51183a0eb71c",
   "metadata": {},
   "outputs": [
    {
     "data": {
      "text/plain": [
       "0.7540983606557377"
      ]
     },
     "execution_count": 46,
     "metadata": {},
     "output_type": "execute_result"
    }
   ],
   "source": [
    "accuracy_score(y_test, optimizer.predict(X_test))"
   ]
  },
  {
   "cell_type": "code",
   "execution_count": 47,
   "id": "9187422d-26df-4420-a915-f9c4cd68b525",
   "metadata": {},
   "outputs": [
    {
     "data": {
      "text/plain": [
       "0.7540983606557377"
      ]
     },
     "execution_count": 47,
     "metadata": {},
     "output_type": "execute_result"
    }
   ],
   "source": [
    "f1_score(y_test, optimizer.predict(X_test))"
   ]
  },
  {
   "cell_type": "markdown",
   "id": "70e6a507-130f-4865-acad-63d13c36b8a6",
   "metadata": {},
   "source": [
    "**Logistic Regression with polynomial features set to degree = 3**"
   ]
  },
  {
   "cell_type": "code",
   "execution_count": 48,
   "id": "2029bf06-0e15-4f1a-ab61-7caf3c4028c9",
   "metadata": {},
   "outputs": [
    {
     "name": "stdout",
     "output_type": "stream",
     "text": [
      "Wall time: 10min 20s\n"
     ]
    },
    {
     "data": {
      "text/plain": [
       "GridSearchCV(cv=10,\n",
       "             estimator=Pipeline(steps=[('poly',\n",
       "                                        PolynomialFeatures(degree=3,\n",
       "                                                           include_bias=False)),\n",
       "                                       ('model',\n",
       "                                        LogisticRegression(max_iter=500))]),\n",
       "             n_jobs=-1,\n",
       "             param_grid={'model__C': [0.01, 0.1, 0.2, 0.25, 0.3, 0.5, 0.75, 1],\n",
       "                         'model__penalty': ['l1', 'l2'],\n",
       "                         'model__solver': ['newton-cg', 'lbfgs', 'liblinear',\n",
       "                                           'sag', 'saga']},\n",
       "             scoring='accuracy')"
      ]
     },
     "execution_count": 48,
     "metadata": {},
     "output_type": "execute_result"
    }
   ],
   "source": [
    "%%time\n",
    "\n",
    "model = Pipeline([('poly', PolynomialFeatures(degree=3, include_bias=False)), \n",
    "                  (\"model\", LogisticRegression(max_iter=500))\n",
    "                 ])\n",
    "\n",
    "param_grid = {'model__penalty':['l1','l2'],\n",
    "              'model__C':[0.01, 0.1, 0.2, 0.25, 0.3, 0.5, 0.75, 1],\n",
    "              'model__solver':['newton-cg', 'lbfgs', 'liblinear', 'sag', 'saga']}\n",
    "\n",
    "optimizer = GridSearchCV(model, param_grid, scoring='accuracy', cv=10 ,n_jobs=-1)\n",
    "\n",
    "optimizer.fit(X_train, y_train)"
   ]
  },
  {
   "cell_type": "code",
   "execution_count": 49,
   "id": "da77eea1-654b-48ef-a3ad-69201ca2c0a4",
   "metadata": {},
   "outputs": [
    {
     "data": {
      "text/plain": [
       "Pipeline(steps=[('poly', PolynomialFeatures(degree=3, include_bias=False)),\n",
       "                ('model',\n",
       "                 LogisticRegression(C=0.01, max_iter=500, solver='newton-cg'))])"
      ]
     },
     "execution_count": 49,
     "metadata": {},
     "output_type": "execute_result"
    }
   ],
   "source": [
    "optimizer.best_estimator_"
   ]
  },
  {
   "cell_type": "code",
   "execution_count": 50,
   "id": "3c431cf5-66d7-4e24-b3e3-99e85898a7a4",
   "metadata": {},
   "outputs": [
    {
     "data": {
      "text/plain": [
       "{'model__C': 0.01, 'model__penalty': 'l2', 'model__solver': 'newton-cg'}"
      ]
     },
     "execution_count": 50,
     "metadata": {},
     "output_type": "execute_result"
    }
   ],
   "source": [
    "optimizer.best_params_"
   ]
  },
  {
   "cell_type": "code",
   "execution_count": 51,
   "id": "50ccdc2f-4850-4027-91cc-1af05fec06dc",
   "metadata": {},
   "outputs": [
    {
     "data": {
      "text/plain": [
       "0.8471666666666667"
      ]
     },
     "execution_count": 51,
     "metadata": {},
     "output_type": "execute_result"
    }
   ],
   "source": [
    "optimizer.best_score_"
   ]
  },
  {
   "cell_type": "code",
   "execution_count": 52,
   "id": "a05a97fb-3550-400b-b94f-c42701068c6a",
   "metadata": {},
   "outputs": [
    {
     "data": {
      "text/plain": [
       "0.819672131147541"
      ]
     },
     "execution_count": 52,
     "metadata": {},
     "output_type": "execute_result"
    }
   ],
   "source": [
    "accuracy_score(y_test, optimizer.predict(X_test))"
   ]
  },
  {
   "cell_type": "code",
   "execution_count": 53,
   "id": "0cd765c4-5454-48b9-aac7-bd4ae793e2cb",
   "metadata": {},
   "outputs": [
    {
     "data": {
      "text/plain": [
       "0.819672131147541"
      ]
     },
     "execution_count": 53,
     "metadata": {},
     "output_type": "execute_result"
    }
   ],
   "source": [
    "f1_score(y_test, optimizer.predict(X_test))"
   ]
  },
  {
   "cell_type": "markdown",
   "id": "42930dc7-5cbb-45c6-a371-ecbe9e94edc7",
   "metadata": {},
   "source": [
    "Logistic regression model gave best score with polynomial features degree set on 1. </br>\n",
    "However, best accuracy score on test data was in model with degree set on 3"
   ]
  },
  {
   "cell_type": "markdown",
   "id": "f5ef7525-31a3-4bd9-adc0-8263008c704e",
   "metadata": {},
   "source": [
    "**Support Vector Machine**"
   ]
  },
  {
   "cell_type": "code",
   "execution_count": 54,
   "id": "3e26be8c-095b-4adf-8ca7-6b3516749721",
   "metadata": {},
   "outputs": [
    {
     "data": {
      "text/plain": [
       "0.7704918032786885"
      ]
     },
     "execution_count": 54,
     "metadata": {},
     "output_type": "execute_result"
    }
   ],
   "source": [
    "model = LinearSVC()\n",
    "model.fit(X_train, y_train)\n",
    "accuracy_score(y_test, model.predict(X_test))"
   ]
  },
  {
   "cell_type": "code",
   "execution_count": 55,
   "id": "8bb06e3e-cc40-4695-b9c3-c6e5ae0f661c",
   "metadata": {},
   "outputs": [
    {
     "data": {
      "text/plain": [
       "0.8524590163934426"
      ]
     },
     "execution_count": 55,
     "metadata": {},
     "output_type": "execute_result"
    }
   ],
   "source": [
    "model = SVC(C=0.5, kernel='rbf')\n",
    "model.fit(X_train, y_train)\n",
    "accuracy_score(y_test, model.predict(X_test))"
   ]
  },
  {
   "cell_type": "code",
   "execution_count": 56,
   "id": "5d9e79c8-8c0b-4c88-9fe3-65e9d6495ae9",
   "metadata": {},
   "outputs": [
    {
     "data": {
      "text/plain": [
       "GridSearchCV(cv=5, estimator=Pipeline(steps=[('model', SVC())]), n_jobs=-1,\n",
       "             param_grid={'model__C': [0.01, 0.1, 0.2, 0.25, 0.3, 0.5, 0.75, 1],\n",
       "                         'model__degree': [2, 3, 4],\n",
       "                         'model__gamma': ['scale', 'auto'],\n",
       "                         'model__kernel': ['rbf', 'linear', 'poly', 'sigmoid']},\n",
       "             scoring='accuracy')"
      ]
     },
     "execution_count": 56,
     "metadata": {},
     "output_type": "execute_result"
    }
   ],
   "source": [
    "model = Pipeline([(\"model\", SVC())])\n",
    "\n",
    "param_grid = {'model__kernel':['rbf','linear','poly', 'sigmoid'],\n",
    "              'model__C':[0.01, 0.1, 0.2, 0.25, 0.3, 0.5, 0.75, 1],\n",
    "              'model__degree':[2,3,4], \n",
    "              'model__gamma':['scale','auto']}\n",
    "\n",
    "optimizer = GridSearchCV(model, param_grid, scoring='accuracy', cv=5 ,n_jobs=-1)\n",
    "\n",
    "optimizer.fit(X_train, y_train)"
   ]
  },
  {
   "cell_type": "code",
   "execution_count": 57,
   "id": "df8cf148-6808-4002-942a-2e2a7da1970a",
   "metadata": {},
   "outputs": [
    {
     "data": {
      "text/plain": [
       "{'model__C': 0.2,\n",
       " 'model__degree': 2,\n",
       " 'model__gamma': 'scale',\n",
       " 'model__kernel': 'linear'}"
      ]
     },
     "execution_count": 57,
     "metadata": {},
     "output_type": "execute_result"
    }
   ],
   "source": [
    "optimizer.best_params_"
   ]
  },
  {
   "cell_type": "code",
   "execution_count": 58,
   "id": "9bda2aee-c753-4a1d-997e-6fab9f7668b4",
   "metadata": {},
   "outputs": [
    {
     "data": {
      "text/plain": [
       "0.851530612244898"
      ]
     },
     "execution_count": 58,
     "metadata": {},
     "output_type": "execute_result"
    }
   ],
   "source": [
    "optimizer.best_score_"
   ]
  },
  {
   "cell_type": "code",
   "execution_count": 59,
   "id": "5d4901a5-6583-4676-8530-77ecd8cfad75",
   "metadata": {},
   "outputs": [
    {
     "data": {
      "text/plain": [
       "0.7868852459016393"
      ]
     },
     "execution_count": 59,
     "metadata": {},
     "output_type": "execute_result"
    }
   ],
   "source": [
    "accuracy_score(y_test, optimizer.predict(X_test))"
   ]
  },
  {
   "cell_type": "code",
   "execution_count": 60,
   "id": "bb9de0dc-a7f7-4975-a005-94cb37d1cb58",
   "metadata": {},
   "outputs": [
    {
     "data": {
      "text/plain": [
       "0.7796610169491526"
      ]
     },
     "execution_count": 60,
     "metadata": {},
     "output_type": "execute_result"
    }
   ],
   "source": [
    "f1_score(y_test, optimizer.predict(X_test))"
   ]
  },
  {
   "cell_type": "markdown",
   "id": "f6314f5a-6bbb-4c01-bfb8-1c78a7ae9994",
   "metadata": {},
   "source": [
    "**Random Forest**"
   ]
  },
  {
   "cell_type": "code",
   "execution_count": 61,
   "id": "3b1ea4dc-9a1b-4a9a-be26-bcf4e5af2579",
   "metadata": {},
   "outputs": [
    {
     "data": {
      "text/plain": [
       "0.7540983606557377"
      ]
     },
     "execution_count": 61,
     "metadata": {},
     "output_type": "execute_result"
    }
   ],
   "source": [
    "model = RandomForestClassifier()\n",
    "model.fit(X_train, y_train)\n",
    "accuracy_score(y_test, model.predict(X_test))"
   ]
  },
  {
   "cell_type": "code",
   "execution_count": 62,
   "id": "a12ddb81-80db-4a9e-9975-f200db1f9f0e",
   "metadata": {},
   "outputs": [
    {
     "data": {
      "text/plain": [
       "GridSearchCV(cv=5,\n",
       "             estimator=Pipeline(steps=[('model',\n",
       "                                        AdaBoostClassifier(base_estimator=DecisionTreeClassifier(max_depth=10,\n",
       "                                                                                                 min_samples_leaf=5,\n",
       "                                                                                                 min_samples_split=3)))]),\n",
       "             n_jobs=-1,\n",
       "             param_grid={'model__algorithm': ['SAMME.R', 'SAMME'],\n",
       "                         'model__learning_rate': [0.01, 0.1, 0.25, 0.5, 0.75,\n",
       "                                                  1],\n",
       "                         'model__n_estimators': [50, 100, 200, 300, 400, 500]},\n",
       "             scoring='accuracy')"
      ]
     },
     "execution_count": 62,
     "metadata": {},
     "output_type": "execute_result"
    }
   ],
   "source": [
    "model = Pipeline([(\"model\", AdaBoostClassifier(base_estimator=DecisionTreeClassifier(criterion='gini', \n",
    "                                                                                     max_depth=10,\n",
    "                                                                                     min_samples_leaf=5, \n",
    "                                                                                     min_samples_split=3)))])\n",
    "                                                                                     \n",
    "param_grid = {'model__n_estimators':[50,100,200,300,400,500], \n",
    "              'model__learning_rate':[0.01, 0.1, 0.25, 0.5, 0.75,1], \n",
    "              'model__algorithm' : ['SAMME.R','SAMME']                          \n",
    "}\n",
    "\n",
    "optimizer = GridSearchCV(model, param_grid, scoring='accuracy', cv=5 ,n_jobs=-1)\n",
    "\n",
    "optimizer.fit(X_train, y_train)"
   ]
  },
  {
   "cell_type": "code",
   "execution_count": 63,
   "id": "f3e79fa1-82df-4d7b-b1df-44369ab9d33e",
   "metadata": {},
   "outputs": [
    {
     "data": {
      "text/plain": [
       "{'model__algorithm': 'SAMME.R',\n",
       " 'model__learning_rate': 0.01,\n",
       " 'model__n_estimators': 50}"
      ]
     },
     "execution_count": 63,
     "metadata": {},
     "output_type": "execute_result"
    }
   ],
   "source": [
    "optimizer.best_params_"
   ]
  },
  {
   "cell_type": "code",
   "execution_count": 64,
   "id": "d8ec43e1-a689-4a0e-a101-5643aeb785c1",
   "metadata": {},
   "outputs": [
    {
     "data": {
      "text/plain": [
       "0.8186224489795919"
      ]
     },
     "execution_count": 64,
     "metadata": {},
     "output_type": "execute_result"
    }
   ],
   "source": [
    "optimizer.best_score_"
   ]
  },
  {
   "cell_type": "code",
   "execution_count": 65,
   "id": "8787a030-cf6e-4258-a765-3403d82039fd",
   "metadata": {},
   "outputs": [
    {
     "data": {
      "text/plain": [
       "0.7704918032786885"
      ]
     },
     "execution_count": 65,
     "metadata": {},
     "output_type": "execute_result"
    }
   ],
   "source": [
    "accuracy_score(y_test, optimizer.predict(X_test))"
   ]
  },
  {
   "cell_type": "code",
   "execution_count": 66,
   "id": "e6da662b-b8d4-4af6-b4c8-c5ff5ab988e7",
   "metadata": {},
   "outputs": [
    {
     "data": {
      "text/plain": [
       "0.7812499999999999"
      ]
     },
     "execution_count": 66,
     "metadata": {},
     "output_type": "execute_result"
    }
   ],
   "source": [
    "f1_score(y_test, optimizer.predict(X_test))"
   ]
  },
  {
   "cell_type": "markdown",
   "id": "c80350e5-9858-4ce6-8f1e-a85c1b61c24d",
   "metadata": {},
   "source": [
    "**Bayes**"
   ]
  },
  {
   "cell_type": "code",
   "execution_count": 67,
   "id": "8244ebeb-ac70-4f65-8fc9-35933d5e5a9a",
   "metadata": {},
   "outputs": [
    {
     "data": {
      "text/plain": [
       "0.8524590163934426"
      ]
     },
     "execution_count": 67,
     "metadata": {},
     "output_type": "execute_result"
    }
   ],
   "source": [
    "model = BernoulliNB()\n",
    "model.fit(X_train, y_train)\n",
    "accuracy_score(y_test, model.predict(X_test))"
   ]
  },
  {
   "cell_type": "code",
   "execution_count": 68,
   "id": "31e03b96-003c-4da5-913c-c355635d4234",
   "metadata": {},
   "outputs": [
    {
     "data": {
      "text/plain": [
       "GridSearchCV(cv=5, estimator=Pipeline(steps=[('model', BernoulliNB())]),\n",
       "             n_jobs=-1,\n",
       "             param_grid={'model__alpha': [0.001, 0.01, 0.05, 0.1, 0.25, 0.5,\n",
       "                                          0.75, 1]},\n",
       "             scoring='accuracy')"
      ]
     },
     "execution_count": 68,
     "metadata": {},
     "output_type": "execute_result"
    }
   ],
   "source": [
    "model = Pipeline([(\"model\", BernoulliNB())])\n",
    "\n",
    "param_grid = {'model__alpha':[0.001, 0.01,0.05,0.1,0.25,0.5,0.75,1]}\n",
    "\n",
    "optimizer = GridSearchCV(model, param_grid, scoring='accuracy', cv=5 ,n_jobs=-1)\n",
    "\n",
    "optimizer.fit(X_train, y_train)"
   ]
  },
  {
   "cell_type": "code",
   "execution_count": 69,
   "id": "99762b51-af1d-47b1-a2a6-1990a24bc478",
   "metadata": {},
   "outputs": [
    {
     "data": {
      "text/plain": [
       "{'model__alpha': 0.001}"
      ]
     },
     "execution_count": 69,
     "metadata": {},
     "output_type": "execute_result"
    }
   ],
   "source": [
    "optimizer.best_params_"
   ]
  },
  {
   "cell_type": "code",
   "execution_count": 70,
   "id": "7a93a349-f6f3-47aa-a944-9812fd3a858a",
   "metadata": {},
   "outputs": [
    {
     "data": {
      "text/plain": [
       "0.8310374149659865"
      ]
     },
     "execution_count": 70,
     "metadata": {},
     "output_type": "execute_result"
    }
   ],
   "source": [
    "optimizer.best_score_"
   ]
  },
  {
   "cell_type": "code",
   "execution_count": 71,
   "id": "59a2dd5d-5efa-481c-81dd-fe71a2b9b323",
   "metadata": {},
   "outputs": [
    {
     "data": {
      "text/plain": [
       "0.8360655737704918"
      ]
     },
     "execution_count": 71,
     "metadata": {},
     "output_type": "execute_result"
    }
   ],
   "source": [
    "accuracy_score(y_test, optimizer.predict(X_test))"
   ]
  },
  {
   "cell_type": "code",
   "execution_count": 72,
   "id": "993321d0-ae9b-41a6-8d21-750f2c8f13d2",
   "metadata": {},
   "outputs": [
    {
     "data": {
      "text/plain": [
       "0.8275862068965517"
      ]
     },
     "execution_count": 72,
     "metadata": {},
     "output_type": "execute_result"
    }
   ],
   "source": [
    "f1_score(y_test, optimizer.predict(X_test))"
   ]
  },
  {
   "cell_type": "markdown",
   "id": "adf54424-3fdf-4218-8a25-abd767cb842e",
   "metadata": {},
   "source": [
    "**KNeighbors**"
   ]
  },
  {
   "cell_type": "code",
   "execution_count": 73,
   "id": "01878ac0-98f0-479c-976f-c5366e50b3b6",
   "metadata": {},
   "outputs": [
    {
     "data": {
      "text/plain": [
       "KNeighborsClassifier(leaf_size=10, n_neighbors=10, weights='distance')"
      ]
     },
     "execution_count": 73,
     "metadata": {},
     "output_type": "execute_result"
    }
   ],
   "source": [
    "model = KNeighborsClassifier(n_neighbors=10, weights='distance', leaf_size=10, p = 2, )\n",
    "model.fit(X_train[numerical], y_train)"
   ]
  },
  {
   "cell_type": "markdown",
   "id": "41a718cd-8921-497b-a000-b2cfdf0f726e",
   "metadata": {},
   "source": [
    "I use only numerical columns because K near neighbours model isn't made for categorical features "
   ]
  },
  {
   "cell_type": "code",
   "execution_count": 74,
   "id": "020ffdb9-bc7f-413f-81a9-8c86a2d23e94",
   "metadata": {},
   "outputs": [
    {
     "data": {
      "text/plain": [
       "0.7377049180327869"
      ]
     },
     "execution_count": 74,
     "metadata": {},
     "output_type": "execute_result"
    }
   ],
   "source": [
    "accuracy_score(y_test, model.predict(X_test[numerical]))"
   ]
  },
  {
   "cell_type": "code",
   "execution_count": 75,
   "id": "65d66e47-a72e-46d1-8008-69b066320ec6",
   "metadata": {},
   "outputs": [
    {
     "data": {
      "text/plain": [
       "0.7500000000000001"
      ]
     },
     "execution_count": 75,
     "metadata": {},
     "output_type": "execute_result"
    }
   ],
   "source": [
    "f1_score(y_test, model.predict(X_test[numerical]))"
   ]
  },
  {
   "cell_type": "code",
   "execution_count": 76,
   "id": "79134742-4a5b-49e7-bdd9-4963d68d71cd",
   "metadata": {},
   "outputs": [
    {
     "data": {
      "text/plain": [
       "GridSearchCV(cv=5,\n",
       "             estimator=Pipeline(steps=[('model', KNeighborsClassifier())]),\n",
       "             n_jobs=-1,\n",
       "             param_grid={'model__algorithm': ['auto', 'ball_tree', 'kd_tree',\n",
       "                                              'brute'],\n",
       "                         'model__leaf_size': [5, 10, 20, 30, 40, 50],\n",
       "                         'model__n_neighbors': [3, 5, 7, 9, 11, 13, 15],\n",
       "                         'model__p': [1, 2],\n",
       "                         'model__weights': ['uniform', 'distance']},\n",
       "             scoring='accuracy')"
      ]
     },
     "execution_count": 76,
     "metadata": {},
     "output_type": "execute_result"
    }
   ],
   "source": [
    "model = Pipeline([(\"model\", KNeighborsClassifier())])\n",
    "\n",
    "param_grid = {'model__n_neighbors':[3,5,7,9,11,13,15],\n",
    "              'model__weights':['uniform','distance'],\n",
    "              'model__algorithm':['auto', 'ball_tree', 'kd_tree', 'brute'],\n",
    "              'model__leaf_size':[5,10,20,30,40,50], \n",
    "              'model__p':[1,2]}\n",
    "\n",
    "optimizer = GridSearchCV(model, param_grid, scoring='accuracy', cv=5 ,n_jobs=-1)\n",
    "\n",
    "optimizer.fit(X_train[numerical], y_train)"
   ]
  },
  {
   "cell_type": "code",
   "execution_count": 77,
   "id": "d498b225-e950-4a72-a001-523824c360e6",
   "metadata": {},
   "outputs": [
    {
     "data": {
      "text/plain": [
       "{'model__algorithm': 'auto',\n",
       " 'model__leaf_size': 5,\n",
       " 'model__n_neighbors': 7,\n",
       " 'model__p': 1,\n",
       " 'model__weights': 'uniform'}"
      ]
     },
     "execution_count": 77,
     "metadata": {},
     "output_type": "execute_result"
    }
   ],
   "source": [
    "optimizer.best_params_"
   ]
  },
  {
   "cell_type": "code",
   "execution_count": 78,
   "id": "d6276fc3-e5f2-47da-8f70-3838d5e30dab",
   "metadata": {},
   "outputs": [
    {
     "data": {
      "text/plain": [
       "0.7108843537414965"
      ]
     },
     "execution_count": 78,
     "metadata": {},
     "output_type": "execute_result"
    }
   ],
   "source": [
    "optimizer.best_score_"
   ]
  },
  {
   "cell_type": "code",
   "execution_count": 79,
   "id": "55c5ee8a-ab3b-46d6-89bf-9957fdace1eb",
   "metadata": {},
   "outputs": [
    {
     "data": {
      "text/plain": [
       "0.7213114754098361"
      ]
     },
     "execution_count": 79,
     "metadata": {},
     "output_type": "execute_result"
    }
   ],
   "source": [
    "accuracy_score(y_test, optimizer.predict(X_test[numerical]))"
   ]
  },
  {
   "cell_type": "code",
   "execution_count": 80,
   "id": "9d299124-79b8-4ba0-9131-20eb76ae0690",
   "metadata": {},
   "outputs": [
    {
     "data": {
      "text/plain": [
       "0.7213114754098361"
      ]
     },
     "execution_count": 80,
     "metadata": {},
     "output_type": "execute_result"
    }
   ],
   "source": [
    "f1_score(y_test, optimizer.predict(X_test[numerical]))"
   ]
  },
  {
   "cell_type": "markdown",
   "id": "6b58400a-b63e-4223-81ad-b39ae80a26cd",
   "metadata": {},
   "source": [
    "**Bagging**"
   ]
  },
  {
   "cell_type": "code",
   "execution_count": 81,
   "id": "b04cbcd0-255f-4bce-8d2a-86e788d2fd79",
   "metadata": {},
   "outputs": [
    {
     "data": {
      "text/plain": [
       "0.7377049180327869"
      ]
     },
     "execution_count": 81,
     "metadata": {},
     "output_type": "execute_result"
    }
   ],
   "source": [
    "model = BaggingClassifier()\n",
    "model.fit(X_train, y_train)\n",
    "accuracy_score(y_test, model.predict(X_test))"
   ]
  },
  {
   "cell_type": "code",
   "execution_count": 82,
   "id": "9bf1b0d0-1ac4-4445-8255-46a6dfb13c81",
   "metadata": {},
   "outputs": [
    {
     "data": {
      "text/plain": [
       "GridSearchCV(cv=5,\n",
       "             estimator=Pipeline(steps=[('model',\n",
       "                                        BaggingClassifier(n_estimators=500))]),\n",
       "             n_jobs=-1, param_grid={}, scoring='accuracy')"
      ]
     },
     "execution_count": 82,
     "metadata": {},
     "output_type": "execute_result"
    }
   ],
   "source": [
    "model = Pipeline([(\"model\", BaggingClassifier(n_estimators=500))])\n",
    "\n",
    "param_grid = {}\n",
    "\n",
    "optimizer = GridSearchCV(model, param_grid, scoring='accuracy', cv=5 ,n_jobs=-1)\n",
    "\n",
    "optimizer.fit(X_train, y_train)"
   ]
  },
  {
   "cell_type": "code",
   "execution_count": 83,
   "id": "9d4550b2-823a-4c0e-a490-3f79ca8566e4",
   "metadata": {},
   "outputs": [
    {
     "data": {
      "text/plain": [
       "Pipeline(steps=[('model', BaggingClassifier(n_estimators=500))])"
      ]
     },
     "execution_count": 83,
     "metadata": {},
     "output_type": "execute_result"
    }
   ],
   "source": [
    "optimizer.best_estimator_"
   ]
  },
  {
   "cell_type": "code",
   "execution_count": 84,
   "id": "15e83832-8938-4125-bb0a-bc4c0c3226c1",
   "metadata": {},
   "outputs": [
    {
     "data": {
      "text/plain": [
       "0.8143707482993197"
      ]
     },
     "execution_count": 84,
     "metadata": {},
     "output_type": "execute_result"
    }
   ],
   "source": [
    "optimizer.best_score_"
   ]
  },
  {
   "cell_type": "code",
   "execution_count": 85,
   "id": "e5fa47fd-934a-4f0b-ab34-ff3378a30d73",
   "metadata": {},
   "outputs": [
    {
     "data": {
      "text/plain": [
       "0.7704918032786885"
      ]
     },
     "execution_count": 85,
     "metadata": {},
     "output_type": "execute_result"
    }
   ],
   "source": [
    "accuracy_score(y_test, optimizer.predict(X_test))"
   ]
  },
  {
   "cell_type": "code",
   "execution_count": 86,
   "id": "65800ffd-c6b9-451d-87c7-e1fc38dd674a",
   "metadata": {},
   "outputs": [
    {
     "data": {
      "text/plain": [
       "0.7666666666666667"
      ]
     },
     "execution_count": 86,
     "metadata": {},
     "output_type": "execute_result"
    }
   ],
   "source": [
    "f1_score(y_test, optimizer.predict(X_test))"
   ]
  },
  {
   "cell_type": "code",
   "execution_count": 88,
   "id": "7ddda16b-64e4-4d6d-ae95-f86e2cfd2842",
   "metadata": {},
   "outputs": [
    {
     "name": "stdout",
     "output_type": "stream",
     "text": [
      "Wall time: 2min 42s\n"
     ]
    },
    {
     "data": {
      "text/plain": [
       "GridSearchCV(cv=5,\n",
       "             estimator=Pipeline(steps=[('model',\n",
       "                                        BaggingClassifier(base_estimator=DecisionTreeClassifier(max_depth=10,\n",
       "                                                                                                min_samples_leaf=5,\n",
       "                                                                                                min_samples_split=3)))]),\n",
       "             n_jobs=-1,\n",
       "             param_grid={'model__max_features': [0.5, 0.6, 0.7, 0.8, 0.9, 1],\n",
       "                         'model__max_samples': [0.5, 0.6, 0.7, 0.8, 0.9, 1],\n",
       "                         'model__n_estimators': [300, 400, 500]},\n",
       "             scoring='accuracy')"
      ]
     },
     "execution_count": 88,
     "metadata": {},
     "output_type": "execute_result"
    }
   ],
   "source": [
    "%%time\n",
    "\n",
    "## BaggingClassifier with Decision Tree \n",
    "\n",
    "model = Pipeline([(\"model\", BaggingClassifier(base_estimator=DecisionTreeClassifier(max_depth=10, \n",
    "                                                                                    min_samples_leaf=5, \n",
    "                                                                                    min_samples_split=3), \n",
    "                                             bootstrap=True))\n",
    "])\n",
    "\n",
    "param_grid = {'model__n_estimators' : [300,400,500],\n",
    "              'model__max_samples' : [0.5,0.6,0.7,0.8,0.9,1], \n",
    "              'model__max_features' : [0.5,0.6,0.7,0.8,0.9,1]}\n",
    "\n",
    "optimizer = GridSearchCV(model, param_grid, scoring='accuracy', cv=5 ,n_jobs=-1)\n",
    "\n",
    "optimizer.fit(X_train, y_train)"
   ]
  },
  {
   "cell_type": "code",
   "execution_count": 89,
   "id": "f444970b-c30d-4c79-bc51-2ae5624e0883",
   "metadata": {},
   "outputs": [
    {
     "data": {
      "text/plain": [
       "Pipeline(steps=[('model',\n",
       "                 BaggingClassifier(base_estimator=DecisionTreeClassifier(max_depth=10,\n",
       "                                                                         min_samples_leaf=5,\n",
       "                                                                         min_samples_split=3),\n",
       "                                   max_features=0.5, max_samples=0.8,\n",
       "                                   n_estimators=300))])"
      ]
     },
     "execution_count": 89,
     "metadata": {},
     "output_type": "execute_result"
    }
   ],
   "source": [
    "optimizer.best_estimator_"
   ]
  },
  {
   "cell_type": "code",
   "execution_count": 90,
   "id": "e96b104d-30c9-4b54-987f-781f38fe4104",
   "metadata": {},
   "outputs": [
    {
     "data": {
      "text/plain": [
       "{'model__max_features': 0.5,\n",
       " 'model__max_samples': 0.8,\n",
       " 'model__n_estimators': 300}"
      ]
     },
     "execution_count": 90,
     "metadata": {},
     "output_type": "execute_result"
    }
   ],
   "source": [
    "optimizer.best_params_"
   ]
  },
  {
   "cell_type": "code",
   "execution_count": 91,
   "id": "51707bd5-3afa-4ad0-af3b-3d99d0122eb9",
   "metadata": {},
   "outputs": [
    {
     "data": {
      "text/plain": [
       "0.8185374149659864"
      ]
     },
     "execution_count": 91,
     "metadata": {},
     "output_type": "execute_result"
    }
   ],
   "source": [
    "optimizer.best_score_"
   ]
  },
  {
   "cell_type": "code",
   "execution_count": 92,
   "id": "237b4e29-12bf-46a7-99be-5970caa8fb5e",
   "metadata": {},
   "outputs": [
    {
     "data": {
      "text/plain": [
       "0.7868852459016393"
      ]
     },
     "execution_count": 92,
     "metadata": {},
     "output_type": "execute_result"
    }
   ],
   "source": [
    "accuracy_score(y_test, optimizer.predict(X_test))"
   ]
  },
  {
   "cell_type": "code",
   "execution_count": 93,
   "id": "f4a74cd2-fa2a-4eec-9819-02c6279f515a",
   "metadata": {},
   "outputs": [
    {
     "data": {
      "text/plain": [
       "0.7796610169491526"
      ]
     },
     "execution_count": 93,
     "metadata": {},
     "output_type": "execute_result"
    }
   ],
   "source": [
    "f1_score(y_test, optimizer.predict(X_test))"
   ]
  },
  {
   "cell_type": "code",
   "execution_count": 94,
   "id": "5e0c1023-1140-42d9-ad56-a5f0ae12c60a",
   "metadata": {},
   "outputs": [
    {
     "name": "stdout",
     "output_type": "stream",
     "text": [
      "Wall time: 10min 39s\n"
     ]
    },
    {
     "data": {
      "text/plain": [
       "GridSearchCV(cv=5,\n",
       "             estimator=Pipeline(steps=[('model',\n",
       "                                        BaggingClassifier(base_estimator=SVC(C=0.2)))]),\n",
       "             n_jobs=-1,\n",
       "             param_grid={'model__max_features': [0.5, 0.6, 0.7, 0.8, 0.9, 1],\n",
       "                         'model__max_samples': [0.5, 0.6, 0.7, 0.8, 0.9, 1],\n",
       "                         'model__n_estimators': [300, 400, 500]},\n",
       "             scoring='accuracy')"
      ]
     },
     "execution_count": 94,
     "metadata": {},
     "output_type": "execute_result"
    }
   ],
   "source": [
    "%%time\n",
    "\n",
    "## BaggingClassifier with Support Vector Machine \n",
    "\n",
    "model = Pipeline([(\"model\", BaggingClassifier(base_estimator=SVC(C=0.2), bootstrap=True))\n",
    "])\n",
    "\n",
    "param_grid = {'model__n_estimators' : [300,400,500],\n",
    "              'model__max_samples' : [0.5,0.6,0.7,0.8,0.9,1], \n",
    "              'model__max_features' : [0.5,0.6,0.7,0.8,0.9,1]}\n",
    "\n",
    "optimizer = GridSearchCV(model, param_grid, scoring='accuracy', cv=5 ,n_jobs=-1)\n",
    "\n",
    "optimizer.fit(X_train, y_train)"
   ]
  },
  {
   "cell_type": "code",
   "execution_count": 95,
   "id": "377b97f0-845b-4a64-9a5b-e978fc92a5dc",
   "metadata": {},
   "outputs": [
    {
     "data": {
      "text/plain": [
       "Pipeline(steps=[('model',\n",
       "                 BaggingClassifier(base_estimator=SVC(C=0.2), max_features=0.5,\n",
       "                                   max_samples=0.5, n_estimators=500))])"
      ]
     },
     "execution_count": 95,
     "metadata": {},
     "output_type": "execute_result"
    }
   ],
   "source": [
    "optimizer.best_estimator_"
   ]
  },
  {
   "cell_type": "code",
   "execution_count": 96,
   "id": "c8c52faf-4b96-4776-aa75-6e0bd09cdd20",
   "metadata": {},
   "outputs": [
    {
     "data": {
      "text/plain": [
       "{'model__max_features': 0.5,\n",
       " 'model__max_samples': 0.5,\n",
       " 'model__n_estimators': 500}"
      ]
     },
     "execution_count": 96,
     "metadata": {},
     "output_type": "execute_result"
    }
   ],
   "source": [
    "optimizer.best_params_"
   ]
  },
  {
   "cell_type": "code",
   "execution_count": 97,
   "id": "8d4bad36-6ecb-42ab-9480-27add46f36ad",
   "metadata": {},
   "outputs": [
    {
     "data": {
      "text/plain": [
       "0.8184523809523808"
      ]
     },
     "execution_count": 97,
     "metadata": {},
     "output_type": "execute_result"
    }
   ],
   "source": [
    "optimizer.best_score_"
   ]
  },
  {
   "cell_type": "code",
   "execution_count": 98,
   "id": "040270ab-c6b3-418e-978e-248b65dd9bf7",
   "metadata": {},
   "outputs": [
    {
     "data": {
      "text/plain": [
       "0.7704918032786885"
      ]
     },
     "execution_count": 98,
     "metadata": {},
     "output_type": "execute_result"
    }
   ],
   "source": [
    "accuracy_score(y_test, optimizer.predict(X_test))"
   ]
  },
  {
   "cell_type": "code",
   "execution_count": 99,
   "id": "f1b29a8f-01d8-4aa7-bbde-28216881e67f",
   "metadata": {},
   "outputs": [
    {
     "data": {
      "text/plain": [
       "0.7812499999999999"
      ]
     },
     "execution_count": 99,
     "metadata": {},
     "output_type": "execute_result"
    }
   ],
   "source": [
    "f1_score(y_test, optimizer.predict(X_test))"
   ]
  },
  {
   "cell_type": "code",
   "execution_count": 128,
   "id": "ad4fa3ff-edfc-4cec-ae0e-751ef00639bc",
   "metadata": {},
   "outputs": [
    {
     "name": "stdout",
     "output_type": "stream",
     "text": [
      "Wall time: 48min 3s\n"
     ]
    },
    {
     "data": {
      "text/plain": [
       "GridSearchCV(cv=5,\n",
       "             estimator=Pipeline(steps=[('model',\n",
       "                                        BaggingClassifier(base_estimator=LogisticRegression()))]),\n",
       "             n_jobs=-1,\n",
       "             param_grid={'model__base_estimator__C': [0.1, 0.25, 0.5, 0.75, 1],\n",
       "                         'model__max_features': [0.5, 0.6, 0.7, 0.8, 0.9, 1],\n",
       "                         'model__max_samples': [0.5, 0.6, 0.7, 0.8, 0.9, 1],\n",
       "                         'model__n_estimators': [300, 400, 500]},\n",
       "             scoring='accuracy')"
      ]
     },
     "execution_count": 128,
     "metadata": {},
     "output_type": "execute_result"
    }
   ],
   "source": [
    "%%time\n",
    "\n",
    "## BaggingClassifier with Logistic Regression  \n",
    "\n",
    "model = Pipeline([(\"model\", BaggingClassifier(base_estimator=LogisticRegression(), bootstrap=True))\n",
    "])\n",
    "\n",
    "param_grid = {'model__base_estimator__C':[0.1,0.25,0.5,0.75,1],\n",
    "              'model__n_estimators' : [300,400,500],\n",
    "              'model__max_samples' : [0.5,0.6,0.7,0.8,0.9,1], \n",
    "              'model__max_features' : [0.5,0.6,0.7,0.8,0.9,1]}\n",
    "\n",
    "optimizer = GridSearchCV(model, param_grid, scoring='accuracy', cv=5 ,n_jobs=-1)\n",
    "\n",
    "optimizer.fit(X_train, y_train)"
   ]
  },
  {
   "cell_type": "code",
   "execution_count": 130,
   "id": "5bfe2113-9b09-499a-9cde-8a9b63627a69",
   "metadata": {},
   "outputs": [
    {
     "data": {
      "text/plain": [
       "Pipeline(steps=[('model',\n",
       "                 BaggingClassifier(base_estimator=LogisticRegression(C=1),\n",
       "                                   max_features=0.9, max_samples=0.7,\n",
       "                                   n_estimators=500))])"
      ]
     },
     "execution_count": 130,
     "metadata": {},
     "output_type": "execute_result"
    }
   ],
   "source": [
    "optimizer.best_estimator_"
   ]
  },
  {
   "cell_type": "code",
   "execution_count": 132,
   "id": "40961cd1-c561-4bc8-90ad-78e6018925cc",
   "metadata": {},
   "outputs": [
    {
     "data": {
      "text/plain": [
       "{'model__base_estimator__C': 1,\n",
       " 'model__max_features': 0.9,\n",
       " 'model__max_samples': 0.7,\n",
       " 'model__n_estimators': 500}"
      ]
     },
     "execution_count": 132,
     "metadata": {},
     "output_type": "execute_result"
    }
   ],
   "source": [
    "optimizer.best_params_"
   ]
  },
  {
   "cell_type": "code",
   "execution_count": 133,
   "id": "e098e3fa-ea2d-43c3-a594-286e0a575863",
   "metadata": {},
   "outputs": [
    {
     "data": {
      "text/plain": [
       "0.8639455782312926"
      ]
     },
     "execution_count": 133,
     "metadata": {},
     "output_type": "execute_result"
    }
   ],
   "source": [
    "optimizer.best_score_"
   ]
  },
  {
   "cell_type": "code",
   "execution_count": 134,
   "id": "105bd88a-26d1-4420-9d48-ed64bb43bb30",
   "metadata": {},
   "outputs": [
    {
     "data": {
      "text/plain": [
       "0.819672131147541"
      ]
     },
     "execution_count": 134,
     "metadata": {},
     "output_type": "execute_result"
    }
   ],
   "source": [
    "accuracy_score(y_test, optimizer.predict(X_test))"
   ]
  },
  {
   "cell_type": "code",
   "execution_count": 135,
   "id": "c29f4477-c976-4acc-bc48-c32b0a8c875e",
   "metadata": {},
   "outputs": [
    {
     "data": {
      "text/plain": [
       "0.8135593220338982"
      ]
     },
     "execution_count": 135,
     "metadata": {},
     "output_type": "execute_result"
    }
   ],
   "source": [
    "f1_score(y_test, optimizer.predict(X_test))"
   ]
  },
  {
   "cell_type": "markdown",
   "id": "ae337d60-2329-4679-bd16-8200a7dd0265",
   "metadata": {},
   "source": [
    "**LightGBM**"
   ]
  },
  {
   "cell_type": "code",
   "execution_count": 136,
   "id": "f2eea834-87fc-4827-92ef-eb2d9af9667e",
   "metadata": {},
   "outputs": [
    {
     "data": {
      "text/plain": [
       "0.7704918032786885"
      ]
     },
     "execution_count": 136,
     "metadata": {},
     "output_type": "execute_result"
    }
   ],
   "source": [
    "model = ltb.LGBMClassifier(boosting_type='gbdt')\n",
    "model.fit(X_train, y_train)\n",
    "accuracy_score(y_test, model.predict(X_test))"
   ]
  },
  {
   "cell_type": "code",
   "execution_count": 137,
   "id": "216ce0b1-6b02-4395-a5d0-66b7202584f4",
   "metadata": {},
   "outputs": [],
   "source": [
    "param_dists = {\"n_estimators\": randint(100,250),\n",
    "               \"learning_rate\": uniform(0.01, 0.3),\n",
    "               \"max_depth\": [5,6,7],\n",
    "               \"min_child_weight\": randint(1, 10),\n",
    "               \"subsample\": [0.7, 0.5, 0.3],\n",
    "               \"colsample_bytree\": [0.7, 0.5, 0.3],\n",
    "               \"reg_lambda\": uniform(0.01, 0.2)}"
   ]
  },
  {
   "cell_type": "code",
   "execution_count": 138,
   "id": "23665ed3-fac6-48d6-8e8d-38fb84fff0f1",
   "metadata": {},
   "outputs": [
    {
     "name": "stdout",
     "output_type": "stream",
     "text": [
      "Wall time: 46.6 s\n"
     ]
    },
    {
     "data": {
      "text/plain": [
       "RandomizedSearchCV(cv=10, estimator=LGBMClassifier(), n_iter=100,\n",
       "                   param_distributions={'colsample_bytree': [0.7, 0.5, 0.3],\n",
       "                                        'learning_rate': <scipy.stats._distn_infrastructure.rv_frozen object at 0x0000024CB8DA24C0>,\n",
       "                                        'max_depth': [5, 6, 7],\n",
       "                                        'min_child_weight': <scipy.stats._distn_infrastructure.rv_frozen object at 0x0000024CB9271190>,\n",
       "                                        'n_estimators': <scipy.stats._distn_infrastructure.rv_frozen object at 0x0000024CB93A71C0>,\n",
       "                                        'reg_lambda': <scipy.stats._distn_infrastructure.rv_frozen object at 0x0000024CB8C28F10>,\n",
       "                                        'subsample': [0.7, 0.5, 0.3]},\n",
       "                   scoring='accuracy')"
      ]
     },
     "execution_count": 138,
     "metadata": {},
     "output_type": "execute_result"
    }
   ],
   "source": [
    "%%time\n",
    "\n",
    "model = ltb.LGBMClassifier()\n",
    "\n",
    "optimizer = RandomizedSearchCV(model, param_dists, \n",
    "                               n_iter=100,\n",
    "                               scoring=\"accuracy\", \n",
    "                               cv=10)\n",
    "optimizer.fit(X_train, y_train)"
   ]
  },
  {
   "cell_type": "code",
   "execution_count": 139,
   "id": "71416474-4884-487d-855e-12bb3368ac68",
   "metadata": {},
   "outputs": [
    {
     "data": {
      "text/plain": [
       "{'colsample_bytree': 0.7,\n",
       " 'learning_rate': 0.03139655708593886,\n",
       " 'max_depth': 6,\n",
       " 'min_child_weight': 2,\n",
       " 'n_estimators': 148,\n",
       " 'reg_lambda': 0.05194039108971368,\n",
       " 'subsample': 0.7}"
      ]
     },
     "execution_count": 139,
     "metadata": {},
     "output_type": "execute_result"
    }
   ],
   "source": [
    "optimizer.best_params_"
   ]
  },
  {
   "cell_type": "code",
   "execution_count": 140,
   "id": "5a8ad9d4-a580-42df-91ca-855cc5374b0c",
   "metadata": {},
   "outputs": [
    {
     "data": {
      "text/plain": [
       "0.826"
      ]
     },
     "execution_count": 140,
     "metadata": {},
     "output_type": "execute_result"
    }
   ],
   "source": [
    "optimizer.best_score_"
   ]
  },
  {
   "cell_type": "code",
   "execution_count": 141,
   "id": "cf7661b3-6eea-4fea-95d6-b3a5ba69ded6",
   "metadata": {},
   "outputs": [
    {
     "data": {
      "text/plain": [
       "0.7377049180327869"
      ]
     },
     "execution_count": 141,
     "metadata": {},
     "output_type": "execute_result"
    }
   ],
   "source": [
    "accuracy_score(y_test, optimizer.predict(X_test))"
   ]
  },
  {
   "cell_type": "code",
   "execution_count": 142,
   "id": "c1758a3f-012f-4ba0-974e-2588b7c26142",
   "metadata": {},
   "outputs": [
    {
     "data": {
      "text/plain": [
       "0.7333333333333333"
      ]
     },
     "execution_count": 142,
     "metadata": {},
     "output_type": "execute_result"
    }
   ],
   "source": [
    "f1_score(y_test, optimizer.predict(X_test))"
   ]
  },
  {
   "cell_type": "markdown",
   "id": "13fadecc-fa9b-41c8-b9c0-a0599b1cf114",
   "metadata": {},
   "source": [
    "**XGBClassifier**"
   ]
  },
  {
   "cell_type": "code",
   "execution_count": 143,
   "id": "d2e19654-86ac-4549-acc2-a1883cf70851",
   "metadata": {},
   "outputs": [
    {
     "data": {
      "text/plain": [
       "0.7049180327868853"
      ]
     },
     "execution_count": 143,
     "metadata": {},
     "output_type": "execute_result"
    }
   ],
   "source": [
    "model = XGBClassifier(eval_metric='logloss')\n",
    "model.fit(X_train, y_train)\n",
    "accuracy_score(y_test, model.predict(X_test))"
   ]
  },
  {
   "cell_type": "code",
   "execution_count": 144,
   "id": "22999130-c024-497e-ac5e-7dec26caf68f",
   "metadata": {},
   "outputs": [],
   "source": [
    "param_dists = {\"n_estimators\": randint(100,250),\n",
    "               \"learning_rate\": uniform(0.01, 0.3),\n",
    "               \"max_depth\": [5,6,7],\n",
    "               \"min_child_weight\": randint(1, 10),\n",
    "               \"subsample\": [0.7, 0.5, 0.3],\n",
    "               \"colsample_bytree\": [0.7, 0.5, 0.3],\n",
    "               \"gamma\": uniform(0.01, 0.2),\n",
    "               \"reg_lambda\": uniform(0.01, 0.2)}"
   ]
  },
  {
   "cell_type": "code",
   "execution_count": 145,
   "id": "9f675f71-6ae2-4eb7-901b-b76cbfbbfdba",
   "metadata": {},
   "outputs": [
    {
     "name": "stdout",
     "output_type": "stream",
     "text": [
      "Wall time: 3min 6s\n"
     ]
    },
    {
     "data": {
      "text/plain": [
       "RandomizedSearchCV(cv=10,\n",
       "                   estimator=XGBClassifier(base_score=None, booster=None,\n",
       "                                           colsample_bylevel=None,\n",
       "                                           colsample_bynode=None,\n",
       "                                           colsample_bytree=None,\n",
       "                                           enable_categorical=False,\n",
       "                                           eval_metric='logloss', gamma=None,\n",
       "                                           gpu_id=None, importance_type=None,\n",
       "                                           interaction_constraints=None,\n",
       "                                           learning_rate=None,\n",
       "                                           max_delta_step=None, max_depth=None,\n",
       "                                           min_child_weight=None, missing=n...\n",
       "                                        'learning_rate': <scipy.stats._distn_infrastructure.rv_frozen object at 0x0000024CB961CD00>,\n",
       "                                        'max_depth': [5, 6, 7],\n",
       "                                        'min_child_weight': <scipy.stats._distn_infrastructure.rv_frozen object at 0x0000024CB8E0C8E0>,\n",
       "                                        'n_estimators': <scipy.stats._distn_infrastructure.rv_frozen object at 0x0000024CB8E0CD90>,\n",
       "                                        'reg_lambda': <scipy.stats._distn_infrastructure.rv_frozen object at 0x0000024CB8DAE730>,\n",
       "                                        'subsample': [0.7, 0.5, 0.3]},\n",
       "                   scoring='accuracy')"
      ]
     },
     "execution_count": 145,
     "metadata": {},
     "output_type": "execute_result"
    }
   ],
   "source": [
    "%%time\n",
    "\n",
    "model = XGBClassifier(eval_metric='logloss')\n",
    "optimizer = RandomizedSearchCV(model, param_dists, \n",
    "                               n_iter=100,\n",
    "                               scoring=\"accuracy\", \n",
    "                               cv=10)\n",
    "\n",
    "optimizer.fit(X_train, y_train)"
   ]
  },
  {
   "cell_type": "code",
   "execution_count": 146,
   "id": "81034f5b-33b3-4138-bf2e-a8b81ca9fbb1",
   "metadata": {},
   "outputs": [
    {
     "data": {
      "text/plain": [
       "XGBClassifier(base_score=0.5, booster='gbtree', colsample_bylevel=1,\n",
       "              colsample_bynode=1, colsample_bytree=0.7,\n",
       "              enable_categorical=False, eval_metric='logloss',\n",
       "              gamma=0.07992164087258097, gpu_id=-1, importance_type=None,\n",
       "              interaction_constraints='', learning_rate=0.030544428787490772,\n",
       "              max_delta_step=0, max_depth=6, min_child_weight=1, missing=nan,\n",
       "              monotone_constraints='()', n_estimators=102, n_jobs=4,\n",
       "              num_parallel_tree=1, predictor='auto', random_state=0,\n",
       "              reg_alpha=0, reg_lambda=0.03784424378489521, scale_pos_weight=1,\n",
       "              subsample=0.5, tree_method='exact', validate_parameters=1,\n",
       "              verbosity=None)"
      ]
     },
     "execution_count": 146,
     "metadata": {},
     "output_type": "execute_result"
    }
   ],
   "source": [
    "optimizer.best_estimator_"
   ]
  },
  {
   "cell_type": "code",
   "execution_count": 147,
   "id": "e231fedd-516b-48dc-b757-5f8e48a75f54",
   "metadata": {},
   "outputs": [
    {
     "data": {
      "text/plain": [
       "0.8226666666666667"
      ]
     },
     "execution_count": 147,
     "metadata": {},
     "output_type": "execute_result"
    }
   ],
   "source": [
    "optimizer.best_score_"
   ]
  },
  {
   "cell_type": "code",
   "execution_count": 148,
   "id": "25703ac2-6aa7-42c3-bbc3-dd41e04a51a3",
   "metadata": {},
   "outputs": [
    {
     "data": {
      "text/plain": [
       "0.7868852459016393"
      ]
     },
     "execution_count": 148,
     "metadata": {},
     "output_type": "execute_result"
    }
   ],
   "source": [
    "accuracy_score(y_test, optimizer.predict(X_test))"
   ]
  },
  {
   "cell_type": "code",
   "execution_count": 149,
   "id": "806740a3-7f04-433c-8aa3-da2b26e277f9",
   "metadata": {},
   "outputs": [
    {
     "data": {
      "text/plain": [
       "0.7868852459016393"
      ]
     },
     "execution_count": 149,
     "metadata": {},
     "output_type": "execute_result"
    }
   ],
   "source": [
    "f1_score(y_test, optimizer.predict(X_test))"
   ]
  },
  {
   "cell_type": "markdown",
   "id": "f12fe22e-e25c-445f-8eb7-55a90e84f5c8",
   "metadata": {},
   "source": [
    "**Neuron network**"
   ]
  },
  {
   "cell_type": "code",
   "execution_count": 150,
   "id": "c83a3e74-0608-4ea5-8d7d-443887ed7787",
   "metadata": {},
   "outputs": [
    {
     "name": "stdout",
     "output_type": "stream",
     "text": [
      "Wall time: 88.8 ms\n"
     ]
    },
    {
     "data": {
      "text/plain": [
       "MLPClassifier(activation='tanh', early_stopping=True,\n",
       "              hidden_layer_sizes=(100, 100, 100, 100), max_iter=100,\n",
       "              n_iter_no_change=5)"
      ]
     },
     "execution_count": 150,
     "metadata": {},
     "output_type": "execute_result"
    }
   ],
   "source": [
    "%%time\n",
    "\n",
    "model = MLPClassifier((100,100,100,100), 'tanh', \n",
    "                     max_iter=100, \n",
    "                     early_stopping=True,\n",
    "                     validation_fraction=0.1, \n",
    "                     n_iter_no_change=5)\n",
    "\n",
    "model.fit(X_train, y_train)"
   ]
  },
  {
   "cell_type": "code",
   "execution_count": 151,
   "id": "1a0f5e05-4482-4aad-8b84-796a3875d689",
   "metadata": {},
   "outputs": [
    {
     "data": {
      "text/plain": [
       "0.7868852459016393"
      ]
     },
     "execution_count": 151,
     "metadata": {},
     "output_type": "execute_result"
    }
   ],
   "source": [
    "accuracy_score(y_test, optimizer.predict(X_test))"
   ]
  },
  {
   "cell_type": "code",
   "execution_count": 152,
   "id": "65379db3-1de3-4d87-bad4-804f9f4c2fbf",
   "metadata": {},
   "outputs": [
    {
     "data": {
      "text/plain": [
       "0.7868852459016393"
      ]
     },
     "execution_count": 152,
     "metadata": {},
     "output_type": "execute_result"
    }
   ],
   "source": [
    "f1_score(y_test, optimizer.predict(X_test))"
   ]
  },
  {
   "cell_type": "code",
   "execution_count": 153,
   "id": "53638e7b-c649-4fbb-ad14-a5c8131313f3",
   "metadata": {},
   "outputs": [
    {
     "name": "stdout",
     "output_type": "stream",
     "text": [
      "Wall time: 5min 44s\n"
     ]
    },
    {
     "data": {
      "text/plain": [
       "RandomizedSearchCV(cv=10,\n",
       "                   estimator=Pipeline(steps=[('model',\n",
       "                                              MLPClassifier(early_stopping=True,\n",
       "                                                            hidden_layer_sizes=(100,\n",
       "                                                                                100,\n",
       "                                                                                100,\n",
       "                                                                                100),\n",
       "                                                            n_iter_no_change=5))]),\n",
       "                   n_iter=100,\n",
       "                   param_distributions={'model__activation': ['identity',\n",
       "                                                              'logistic',\n",
       "                                                              'tanh', 'relu'],\n",
       "                                        'model__alpha': [0.0001, 0.001, 0.01,\n",
       "                                                         0.1, 1],\n",
       "                                        'model__learning_rate': ['constant',\n",
       "                                                                 'invscaling',\n",
       "                                                                 'adaptive'],\n",
       "                                        'model__solver': ['lbfgs', 'sgd',\n",
       "                                                          'adam']},\n",
       "                   scoring='accuracy')"
      ]
     },
     "execution_count": 153,
     "metadata": {},
     "output_type": "execute_result"
    }
   ],
   "source": [
    "%%time\n",
    "\n",
    "model = Pipeline([(\"model\", MLPClassifier((100,100,100,100),\n",
    "                     max_iter=200, \n",
    "                     early_stopping=True,\n",
    "                     validation_fraction=0.1, \n",
    "                     n_iter_no_change=5))\n",
    "])\n",
    "\n",
    "param_grid = {'model__activation':['identity', 'logistic', 'tanh', 'relu'], \n",
    "              'model__solver':['lbfgs', 'sgd', 'adam'],\n",
    "              'model__alpha':[0.0001,0.001,0.01,0.1,1],\n",
    "              'model__learning_rate':['constant', 'invscaling', 'adaptive']\n",
    "             }\n",
    "\n",
    "optimizer = RandomizedSearchCV(model, param_grid, \n",
    "                               n_iter=100,\n",
    "                               scoring=\"accuracy\", \n",
    "                               cv=10)\n",
    "optimizer.fit(X_train, y_train)"
   ]
  },
  {
   "cell_type": "code",
   "execution_count": 154,
   "id": "a637e25c-7590-4510-8bba-ec3074035e25",
   "metadata": {},
   "outputs": [
    {
     "data": {
      "text/plain": [
       "Pipeline(steps=[('model',\n",
       "                 MLPClassifier(activation='identity', alpha=0.01,\n",
       "                               early_stopping=True,\n",
       "                               hidden_layer_sizes=(100, 100, 100, 100),\n",
       "                               learning_rate='adaptive', n_iter_no_change=5,\n",
       "                               solver='lbfgs'))])"
      ]
     },
     "execution_count": 154,
     "metadata": {},
     "output_type": "execute_result"
    }
   ],
   "source": [
    "optimizer.best_estimator_"
   ]
  },
  {
   "cell_type": "code",
   "execution_count": 155,
   "id": "ee64bec6-b36e-4fb7-ad9b-40455a4fd55f",
   "metadata": {},
   "outputs": [
    {
     "data": {
      "text/plain": [
       "{'model__solver': 'lbfgs',\n",
       " 'model__learning_rate': 'adaptive',\n",
       " 'model__alpha': 0.01,\n",
       " 'model__activation': 'identity'}"
      ]
     },
     "execution_count": 155,
     "metadata": {},
     "output_type": "execute_result"
    }
   ],
   "source": [
    "optimizer.best_params_"
   ]
  },
  {
   "cell_type": "code",
   "execution_count": 156,
   "id": "94d3e768-0bef-424e-bb1a-c84f58927961",
   "metadata": {},
   "outputs": [
    {
     "data": {
      "text/plain": [
       "0.8515"
      ]
     },
     "execution_count": 156,
     "metadata": {},
     "output_type": "execute_result"
    }
   ],
   "source": [
    "optimizer.best_score_"
   ]
  },
  {
   "cell_type": "code",
   "execution_count": 157,
   "id": "b7cf8986-2049-4d31-ab5b-420247ebc730",
   "metadata": {},
   "outputs": [
    {
     "data": {
      "text/plain": [
       "0.7540983606557377"
      ]
     },
     "execution_count": 157,
     "metadata": {},
     "output_type": "execute_result"
    }
   ],
   "source": [
    "accuracy_score(y_test, optimizer.predict(X_test))"
   ]
  },
  {
   "cell_type": "code",
   "execution_count": 158,
   "id": "440f4f0f-a536-4bf3-b3d6-2f08b794d0b5",
   "metadata": {},
   "outputs": [
    {
     "data": {
      "text/plain": [
       "0.7619047619047619"
      ]
     },
     "execution_count": 158,
     "metadata": {},
     "output_type": "execute_result"
    }
   ],
   "source": [
    "f1_score(y_test, optimizer.predict(X_test))"
   ]
  },
  {
   "cell_type": "markdown",
   "id": "efea2f7b-87fd-48a6-af76-15a9afba710e",
   "metadata": {},
   "source": [
    "**Conclusions**\n",
    "1. What models gave the best score?\n",
    "- Logistic regression - 0.8718\n",
    "- Bagging + logistic regression - 0.8639\n",
    "- Support vector machine - 0.8515 \n",
    "- MLPClassifier - 0.8473\n",
    "2. Which models gave the best quality of forecasts on the training data set? (based on accuracy score)\n",
    "- Bayes - 0.8360\n",
    "- Logistic Regression with polynomial features set on 3 - 0.8196 \n",
    "- Bagging + logistic regression - 0.8032\n",
    "- Support vector machine - 0.7868\n",
    "3. The poor forecast quality results on the test data set are probably due to the small size of the y_test set. \n",
    "\n"
   ]
  },
  {
   "cell_type": "code",
   "execution_count": null,
   "id": "7a39b36c-c1d8-4116-92f4-fa8d1821ddaa",
   "metadata": {},
   "outputs": [],
   "source": []
  }
 ],
 "metadata": {
  "kernelspec": {
   "display_name": "Python 3 (ipykernel)",
   "language": "python",
   "name": "python3"
  },
  "language_info": {
   "codemirror_mode": {
    "name": "ipython",
    "version": 3
   },
   "file_extension": ".py",
   "mimetype": "text/x-python",
   "name": "python",
   "nbconvert_exporter": "python",
   "pygments_lexer": "ipython3",
   "version": "3.9.7"
  }
 },
 "nbformat": 4,
 "nbformat_minor": 5
}
